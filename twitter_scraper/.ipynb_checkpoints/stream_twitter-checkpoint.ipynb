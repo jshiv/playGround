{
 "cells": [
  {
   "cell_type": "markdown",
   "metadata": {},
   "source": [
    "# What key words do you want to look for in twitter"
   ]
  },
  {
   "cell_type": "markdown",
   "metadata": {},
   "source": [
    "# import tweepy tools, dont forget to \"pip install tweepy\" in your shell"
   ]
  },
  {
   "cell_type": "code",
   "execution_count": 5,
   "metadata": {
    "collapsed": false
   },
   "outputs": [],
   "source": [
    "from tweepy.streaming import StreamListener\n",
    "from tweepy import OAuthHandler\n",
    "from tweepy import Stream\n",
    "import json\n",
    "import TwitterAuth\n",
    "import sys\n",
    "\n",
    "import time\n",
    "import os\n",
    "\n",
    "#Very simple (non-production) Twitter stream example\n",
    "#1. Download / install python and tweepy (pip install tweepy)\n",
    "#2. Fill in information in auth.py\n",
    "#3. Run as: python streaming_simple.py\n",
    "#4. It will keep running until the user presses ctrl+c to exit\n",
    "#All output stored to output.json (one tweet  per line)\n",
    "#Text of tweets also printed as recieved (see note about not doing this in production (final) code\n",
    "\n",
    "# results_path = './results/'\n",
    "\n",
    "# if sys.argv[1] == '-f':\n",
    "#     out_file = results_path+'output.json'\n",
    "# else:\n",
    "#     out_file = sys.argv[1]\n",
    "\n",
    "class StdOutListener(StreamListener):\n",
    "\n",
    "    def __init__(self,file_handle, production = True, stop = 1000):\n",
    "        self.file_handle = file_handle\n",
    "        self.production = production\n",
    "        self.counter = 0\n",
    "        self.stop = stop\n",
    "    #This function gets called every time a new tweet is received on the stream\n",
    "    def on_data(self, data):\n",
    "        #Just write data to one line in the file\n",
    "        self.file_handle.write(data)\n",
    "        self.counter += 1\n",
    "\n",
    "        if self.production == False:\n",
    "            #Convert the data to a json object (shouldn't do this in production; might slow down and miss tweets)\n",
    "            j=json.loads(data)\n",
    "\n",
    "            #See Twitter reference for what fields are included -- https://dev.twitter.com/docs/platform-objects/tweets\n",
    "            text=j[\"text\"] #The text of the tweet\n",
    "            print(text) #Print it out\n",
    "        if self.counter >= self.stop:\n",
    "            broken\n",
    "\n",
    "    def on_error(self, status):\n",
    "        print(\"ERROR\")\n",
    "        print(status)\n",
    "\n"
   ]
  },
  {
   "cell_type": "markdown",
   "metadata": {},
   "source": [
    "# run the script that streams the twitter data and saves it to the file output.json"
   ]
  },
  {
   "cell_type": "code",
   "execution_count": 7,
   "metadata": {
    "collapsed": false
   },
   "outputs": [
    {
     "name": "stdout",
     "output_type": "stream",
     "text": [
      "production is  False  stop in:  4\n"
     ]
    }
   ],
   "source": [
    "\n",
    "if sys.argv[1] == '-f':\n",
    "    production = False\n",
    "    stop = 4\n",
    "else:\n",
    "    production = True\n",
    "    stop = 1000\n",
    "    \n",
    "print 'production is ',production,' stop in: ',stop\n"
   ]
  },
  {
   "cell_type": "code",
   "execution_count": 8,
   "metadata": {
    "collapsed": false
   },
   "outputs": [],
   "source": [
    "\n",
    "try:\n",
    "    os.mkdir('./results')\n",
    "except:\n",
    "    pass"
   ]
  },
  {
   "cell_type": "code",
   "execution_count": 13,
   "metadata": {
    "collapsed": false
   },
   "outputs": [
    {
     "name": "stdout",
     "output_type": "stream",
     "text": [
      "@nat_salinas2015 can I come help you pack\n",
      "That feeling when you're sitting on the last suitcase and it finally closes. \n",
      "...and then you see all the shoes you forgot to pack. 🙈\n",
      "peanut butter and apples is a beautiful thing\n",
      "@alyxshortt @girlideas I already know we're gunna eat crap but oh 🐋\n"
     ]
    }
   ],
   "source": [
    "def write_stream(out_file, production = False, stop = 1000, locations = [-122.75,36.8,-121.75,37.8]):\n",
    "    try:\n",
    "        #Create a file to store output. \"a\" means append (add on to previous file)\n",
    "        fhOut = open(out_file,\"a\")\n",
    "\n",
    "        #Create the listener\n",
    "        l = StdOutListener(fhOut, production = production, stop = stop)\n",
    "        auth = OAuthHandler(TwitterAuth.consumer_key, TwitterAuth.consumer_secret)\n",
    "        auth.set_access_token(TwitterAuth.access_token, TwitterAuth.access_token_secret)\n",
    "\n",
    "        #Connect to the Twitter stream\n",
    "        stream = Stream(auth, l, timeout=60)\n",
    "\n",
    "        #Terms to track\n",
    "        #stream.filter(track = key_words_list) #track=[\"oxford\",\"london\",\"wolverhampton\"])\n",
    "\n",
    "        #Alternatively, location box  for geotagged tweets\n",
    "        stream.filter(locations=locations)#[-122.3145,37.3643,-122.2037,37.4855])\n",
    "\n",
    "        #stream.filter(locations=[-122.75,36.8,-121.75,37.8])\n",
    "        #$$c(W 122°31'45\"--W 122°20'37\"/N 37°48'55\"--N 37°36'43\")\n",
    "\n",
    "    except (RuntimeError, TypeError, NameError, KeyboardInterrupt):\n",
    "        #User pressed ctrl+c -- get ready to exit the program\n",
    "        #Close the \n",
    "        fhOut.close()\n",
    "\n",
    "\n",
    "if __name__=='__main__':\n",
    "#     while True:\n",
    "    if production:\n",
    "        while True:\n",
    "            try:\n",
    "                write_stream('./results/tweets'+str(int(time.time()))+'.json', \n",
    "                             production = production, \n",
    "                             stop = stop, \n",
    "                             locations = [-122.75,36.66,-122.35,37.82])\n",
    "\n",
    "            except:\n",
    "                continue\n",
    "    else:\n",
    "        try:\n",
    "            write_stream('./results/tweets'+str(int(time.time()))+'.json', \n",
    "                         production = production, \n",
    "                         stop = stop, \n",
    "                         locations = [-122.75,36.66,-122.35,37.82])\n",
    "\n",
    "        except Exception as e:\n",
    "            print e#continue"
   ]
  }
 ],
 "metadata": {
  "kernelspec": {
   "display_name": "Python 2",
   "language": "python",
   "name": "python2"
  },
  "language_info": {
   "codemirror_mode": {
    "name": "ipython",
    "version": 2
   },
   "file_extension": ".py",
   "mimetype": "text/x-python",
   "name": "python",
   "nbconvert_exporter": "python",
   "pygments_lexer": "ipython2",
   "version": "2.7.10"
  }
 },
 "nbformat": 4,
 "nbformat_minor": 0
}
