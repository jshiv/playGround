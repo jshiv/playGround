{
 "metadata": {
  "name": "",
  "signature": "sha256:fc6974c116e098c949622ceb2c610abe5032cc2aeb8ee18f77b2159517431b5a"
 },
 "nbformat": 3,
 "nbformat_minor": 0,
 "worksheets": [
  {
   "cells": [
    {
     "cell_type": "code",
     "collapsed": false,
     "input": [
      "key_words_list = ['strataconf','StrataHadoop']"
     ],
     "language": "python",
     "metadata": {},
     "outputs": []
    },
    {
     "cell_type": "code",
     "collapsed": false,
     "input": [
      "from tweepy.streaming import StreamListener\n",
      "from tweepy import OAuthHandler\n",
      "from tweepy import Stream\n",
      "import json\n",
      "import TwitterAuth\n",
      "\n",
      "#Very simple (non-production) Twitter stream example\n",
      "#1. Download / install python and tweepy (pip install tweepy)\n",
      "#2. Fill in information in auth.py\n",
      "#3. Run as: python streaming_simple.py\n",
      "#4. It will keep running until the user presses ctrl+c to exit\n",
      "#All output stored to output.json (one tweet  per line)\n",
      "#Text of tweets also printed as recieved (see note about not doing this in production (final) code\n",
      "\n",
      "class StdOutListener(StreamListener):\n",
      "\n",
      "    #This function gets called every time a new tweet is received on the stream\n",
      "    def on_data(self, data):\n",
      "        #Just write data to one line in the file\n",
      "        fhOut.write(data)\n",
      "\n",
      "        #Convert the data to a json object (shouldn't do this in production; might slow down and miss tweets)\n",
      "        j=json.loads(data)\n",
      "\n",
      "        #See Twitter reference for what fields are included -- https://dev.twitter.com/docs/platform-objects/tweets\n",
      "        text=j[\"text\"] #The text of the tweet\n",
      "        print(text) #Print it out\n",
      "\n",
      "    def on_error(self, status):\n",
      "        print(\"ERROR\")\n",
      "        print(status)\n",
      "\n"
     ],
     "language": "python",
     "metadata": {},
     "outputs": [],
     "prompt_number": 10
    },
    {
     "cell_type": "code",
     "collapsed": false,
     "input": [
      "\n",
      "try:\n",
      "    #Create a file to store output. \"a\" means append (add on to previous file)\n",
      "    fhOut = open(\"output.json\",\"a\")\n",
      "\n",
      "    #Create the listener\n",
      "    l = StdOutListener()\n",
      "    auth = OAuthHandler(TwitterAuth.consumer_key, TwitterAuth.consumer_secret)\n",
      "    auth.set_access_token(TwitterAuth.access_token, TwitterAuth.access_token_secret)\n",
      "\n",
      "    #Connect to the Twitter stream\n",
      "    stream = Stream(auth, l)\n",
      "\n",
      "    #Terms to track\n",
      "    stream.filter(track = key_words_list) #track=[\"oxford\",\"london\",\"wolverhampton\"])\n",
      "\n",
      "    #Alternatively, location box  for geotagged tweets\n",
      "    #stream.filter(locations=[-0.530, 51.322, 0.231, 51.707])\n",
      "\n",
      "except KeyboardInterrupt:\n",
      "    #User pressed ctrl+c -- get ready to exit the program\n",
      "    pass\n",
      "\n",
      "#Close the \n",
      "    fhOut.close()\n",
      "\n",
      "\n"
     ],
     "language": "python",
     "metadata": {},
     "outputs": [
      {
       "output_type": "stream",
       "stream": "stdout",
       "text": [
        "RT @ftgfop1: It begins with an image. #StrataHadoop http://t.co/d8Ur1HOHCG\n",
        "\"It's not about the data, it's about what you do with the data that matters.\" - @Kocolosk #strataconf #hadoopnext"
       ]
      },
      {
       "output_type": "stream",
       "stream": "stdout",
       "text": [
        "\n",
        "RT @RobertsPaige: RT @ActianCorp: \"Actian Vortex essentially averted the analytical skills crisis for Hadoop customers..\"#StrataHadoop http\u2026"
       ]
      },
      {
       "output_type": "stream",
       "stream": "stdout",
       "text": [
        "\n",
        "At the end of the day its not about the data, its what you do w/ the data that really matters @kocolosk #StrataHadoop http://t.co/NFxQUshqbx"
       ]
      },
      {
       "output_type": "stream",
       "stream": "stdout",
       "text": [
        "\n",
        "RT @BethTSmith: \"#IBM has been supporter of ASF since beginning\" @kocolosk #StrataConf\n",
        "Miss our #BigData Research Agenda &amp; Trends are Bolder in 2015 Perspective? Get the facts:  http://t.co/1XUtetRcmR #StrataConf"
       ]
      },
      {
       "output_type": "stream",
       "stream": "stdout",
       "text": [
        "\n",
        "RT @IBMbigdata: \"It's not about the data, it's about what you do with the data that matters.\" - @Kocolosk #strataconf #hadoopnext"
       ]
      },
      {
       "output_type": "stream",
       "stream": "stdout",
       "text": [
        "\n",
        "RT @Azure: #StrataConf Microsoft makes Azure #MachineLearning Generally Available  http://t.co/eneE9NJusg #datascience http://t.co/vvhUHw6y\u2026"
       ]
      },
      {
       "output_type": "stream",
       "stream": "stdout",
       "text": [
        "\n",
        "Where #IBM meets #twitter. Interesting talk about analytics from IBM @strataconf #StrataConf #hadoopworld #bigdata http://t.co/NoA14YIX3b"
       ]
      },
      {
       "output_type": "stream",
       "stream": "stdout",
       "text": [
        "\n",
        "Special guest time. #StrataHadoop"
       ]
      },
      {
       "output_type": "stream",
       "stream": "stdout",
       "text": [
        "\n",
        "RT @IBMbigdata: \"It's not about the data, it's about what you do with the data that matters.\" - @Kocolosk #strataconf #hadoopnext"
       ]
      },
      {
       "output_type": "stream",
       "stream": "stdout",
       "text": [
        "\n",
        "RT @revodavid: IBM committing to R with in-Hadoop analytics and with dashDB #strataconf"
       ]
      },
      {
       "output_type": "stream",
       "stream": "stdout",
       "text": [
        "\n",
        "RT @ro_saccone: RT @JennWalker_: Customer @EMCcorp is speaking at #strataconf later today.  Check out how they use us: http://t.co/Ur6KxBxu\u2026"
       ]
      },
      {
       "output_type": "stream",
       "stream": "stdout",
       "text": [
        "\n",
        "RT @kdnuggets: #StrataHadoop Amr Awadallah @awadallah (Cloudera): Hadoop isn't just #Hadoop anymore - Hadoop stack is growing http://t.co/v\u2026"
       ]
      },
      {
       "output_type": "stream",
       "stream": "stdout",
       "text": [
        "\n",
        "RT @atscaleinc: Getting ready for an exciting day at #StrataHadoop!  Come by and visit @atscaleinc at the Innovator's Pavilion. http://t.co\u2026"
       ]
      },
      {
       "output_type": "stream",
       "stream": "stdout",
       "text": [
        "\n",
        "RT @revodavid: IBM committing to R with in-Hadoop analytics and with dashDB #strataconf"
       ]
      },
      {
       "output_type": "stream",
       "stream": "stdout",
       "text": [
        "\n",
        "@IBMbigdata @kocolosk @cloudant Talks about IBM big data platform - it's what you do with the data not just data. #strataconf"
       ]
      },
      {
       "output_type": "stream",
       "stream": "stdout",
       "text": [
        "\n",
        "RT @IBMbigdata: \"It's not about the data, it's about what you do with the data that matters.\" - @Kocolosk #strataconf #hadoopnext"
       ]
      },
      {
       "output_type": "stream",
       "stream": "stdout",
       "text": [
        "\n",
        "RT @IBMbigdata: \"It's not about the data, it's about what you do with the data that matters.\" - @Kocolosk #strataconf #hadoopnext"
       ]
      },
      {
       "output_type": "stream",
       "stream": "stdout",
       "text": [
        "\n",
        "RT @IBMbigdata: Are you watching? @Kocolosk is talking about #IBMandTwitter at #StratConf keynote happening now: http://t.co/nCCPkoC2hA #ha\u2026"
       ]
      },
      {
       "output_type": "stream",
       "stream": "stdout",
       "text": [
        "\n",
        "lol RT @oliverbrdiczka: Am I doing this #bigdata thing right? #StrataHadoop #strataconf http://t.co/JrFMAUY4XA"
       ]
      },
      {
       "output_type": "stream",
       "stream": "stdout",
       "text": [
        "\n",
        "RT @strataconf: Lisa Hammitt discussing #wearables, IoT, and #bigdata at #StrataHadoop http://t.co/RMJmaKhmpN"
       ]
      },
      {
       "output_type": "stream",
       "stream": "stdout",
       "text": [
        "\n",
        "RT @kdnuggets: #StrataHadoop Anil Gadre @MapR: \"Good Enough\" won't be - once users experience real-time #BigData, they will want more &amp; fas\u2026"
       ]
      },
      {
       "output_type": "stream",
       "stream": "stdout",
       "text": [
        "\n",
        "RT @strataconf: Lisa Hammitt discussing #wearables, IoT, and #bigdata at #StrataHadoop http://t.co/RMJmaKhmpN"
       ]
      },
      {
       "output_type": "stream",
       "stream": "stdout",
       "text": [
        "\n",
        "RT @juguest: MapR keynote at #StrataHadoop stresses how real time is key and data agility is a must http://t.co/73Pu2PUH0U"
       ]
      },
      {
       "output_type": "stream",
       "stream": "stdout",
       "text": [
        "\n",
        "RT @sharonxlin: Where #IBM meets #twitter. Interesting talk about analytics from IBM @strataconf #StrataConf #hadoopworld #bigdata http://t\u2026"
       ]
      },
      {
       "output_type": "stream",
       "stream": "stdout",
       "text": [
        "\n",
        "RT @edd: Having fun this week at #StrataHadoop at the @SVDataScience booth. I think I've done almost every role at this conference now :)"
       ]
      },
      {
       "output_type": "stream",
       "stream": "stdout",
       "text": [
        "\n",
        "If @kocolosk's #StrataHadoop keynoted piqued your interest, stop by booth 1115 to hear more about @IBMbigdata, @GetdashDB &amp; #Cloudant!"
       ]
      },
      {
       "output_type": "stream",
       "stream": "stdout",
       "text": [
        "\n",
        "RT @IBMbigdata: \"It's not about the data, it's about what you do with the data that matters.\" - @Kocolosk #strataconf #hadoopnext"
       ]
      },
      {
       "output_type": "stream",
       "stream": "stdout",
       "text": [
        "\n",
        "RT @DiegoKuonen: MT @josephsirosh: Excited to announce general availability release of #AzureML @strataconf http://t.co/rtJIWEks1t http://t\u2026"
       ]
      },
      {
       "output_type": "stream",
       "stream": "stdout",
       "text": [
        "\n",
        "RT @IBMbigdata: Watch livestream of IBM Distinguished Engineer &amp; @Cloudant CTO, @Kocolosk at #strataconf keynote today at 12:30pmET: http:/\u2026"
       ]
      }
     ]
    },
    {
     "cell_type": "code",
     "collapsed": false,
     "input": [],
     "language": "python",
     "metadata": {},
     "outputs": []
    }
   ],
   "metadata": {}
  }
 ]
}