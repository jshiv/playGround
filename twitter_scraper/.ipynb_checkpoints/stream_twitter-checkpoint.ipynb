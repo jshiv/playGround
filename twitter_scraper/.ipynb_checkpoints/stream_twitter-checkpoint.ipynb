{
 "metadata": {
  "name": "",
  "signature": "sha256:c01dfe3199f8020aab0e4ab4780281badddde163fb9d045c5f67f79df880b058"
 },
 "nbformat": 3,
 "nbformat_minor": 0,
 "worksheets": [
  {
   "cells": [
    {
     "cell_type": "heading",
     "level": 1,
     "metadata": {},
     "source": [
      "What key words do you want to look for in twitter"
     ]
    },
    {
     "cell_type": "code",
     "collapsed": false,
     "input": [
      "key_words_list = ['strataconf','StrataHadoop']"
     ],
     "language": "python",
     "metadata": {},
     "outputs": [],
     "prompt_number": 13
    },
    {
     "cell_type": "heading",
     "level": 1,
     "metadata": {},
     "source": [
      "import tweepy tools, dont forget to \"pip install tweepy\" in your shell"
     ]
    },
    {
     "cell_type": "code",
     "collapsed": false,
     "input": [
      "from tweepy.streaming import StreamListener\n",
      "from tweepy import OAuthHandler\n",
      "from tweepy import Stream\n",
      "import json\n",
      "import TwitterAuth\n",
      "\n",
      "#Very simple (non-production) Twitter stream example\n",
      "#1. Download / install python and tweepy (pip install tweepy)\n",
      "#2. Fill in information in auth.py\n",
      "#3. Run as: python streaming_simple.py\n",
      "#4. It will keep running until the user presses ctrl+c to exit\n",
      "#All output stored to output.json (one tweet  per line)\n",
      "#Text of tweets also printed as recieved (see note about not doing this in production (final) code\n",
      "\n",
      "class StdOutListener(StreamListener):\n",
      "\n",
      "    #This function gets called every time a new tweet is received on the stream\n",
      "    def on_data(self, data):\n",
      "        #Just write data to one line in the file\n",
      "        fhOut.write(data)\n",
      "\n",
      "        #Convert the data to a json object (shouldn't do this in production; might slow down and miss tweets)\n",
      "        j=json.loads(data)\n",
      "\n",
      "        #See Twitter reference for what fields are included -- https://dev.twitter.com/docs/platform-objects/tweets\n",
      "        text=j[\"text\"] #The text of the tweet\n",
      "        print(text) #Print it out\n",
      "\n",
      "    def on_error(self, status):\n",
      "        print(\"ERROR\")\n",
      "        print(status)\n",
      "\n"
     ],
     "language": "python",
     "metadata": {},
     "outputs": [],
     "prompt_number": 14
    },
    {
     "cell_type": "heading",
     "level": 1,
     "metadata": {},
     "source": [
      "run the script that streams the twitter data and saves it to the file output.json"
     ]
    },
    {
     "cell_type": "code",
     "collapsed": false,
     "input": [
      "\n",
      "try:\n",
      "    #Create a file to store output. \"a\" means append (add on to previous file)\n",
      "    fhOut = open(\"output.json\",\"a\")\n",
      "\n",
      "    #Create the listener\n",
      "    l = StdOutListener()\n",
      "    auth = OAuthHandler(TwitterAuth.consumer_key, TwitterAuth.consumer_secret)\n",
      "    auth.set_access_token(TwitterAuth.access_token, TwitterAuth.access_token_secret)\n",
      "\n",
      "    #Connect to the Twitter stream\n",
      "    stream = Stream(auth, l)\n",
      "\n",
      "    #Terms to track\n",
      "    stream.filter(track = key_words_list) #track=[\"oxford\",\"london\",\"wolverhampton\"])\n",
      "\n",
      "    #Alternatively, location box  for geotagged tweets\n",
      "    #stream.filter(locations=[-0.530, 51.322, 0.231, 51.707])\n",
      "\n",
      "except KeyboardInterrupt:\n",
      "    #User pressed ctrl+c -- get ready to exit the program\n",
      "    pass\n",
      "\n",
      "#Close the \n",
      "    fhOut.close()\n",
      "\n",
      "\n"
     ],
     "language": "python",
     "metadata": {},
     "outputs": [
      {
       "output_type": "stream",
       "stream": "stdout",
       "text": [
        "RT @iTweetSarah: Pro-bono DS @pivotal's @noellesio teamed with @datakind\n",
        "and @CrisisTextLine to help teens in need #StrataHadoop #P4G http:\u2026\n",
        "RT @strataconf: Happening NOW at #StrataHadoop: @BarackObama announcing @dpatil of @WhiteHouse http://t.co/NIfLBopx2G"
       ]
      },
      {
       "output_type": "stream",
       "stream": "stdout",
       "text": [
        "\n",
        "First example of open gov data from Pres. Obama's introduction of @dpatil? Weather apps! http://t.co/rpVL1P8Qk0"
       ]
      },
      {
       "output_type": "stream",
       "stream": "stdout",
       "text": [
        "\n",
        "RT @digiphile: \"Hi everybody: normally I'd begin my remarks with a joke about data science\"-@BarackObama http://t.co/4nNnbQOw0d #StrataConf"
       ]
      },
      {
       "output_type": "stream",
       "stream": "stdout",
       "text": [
        "\n",
        "RT @ScottIntel: Where are we going with #datascience? We'll find out in a minute from @dpatil at @strataconf! #datascientist #StrataHadoop"
       ]
      },
      {
       "output_type": "stream",
       "stream": "stdout",
       "text": [
        "\n",
        "At Strata @BarackObama is addressing the @strataconf people before @dpatil Keynote. Amazing to see that data science is big impact :D"
       ]
      },
      {
       "output_type": "stream",
       "stream": "stdout",
       "text": [
        "\n",
        "Obama says half of his staff's jokes about data science are below average. #StrataHadoop http://t.co/3Mg5qern4Y"
       ]
      },
      {
       "output_type": "stream",
       "stream": "stdout",
       "text": [
        "\n",
        "RT @strataconf: Happening NOW at #StrataHadoop: @BarackObama announcing @dpatil of @WhiteHouse http://t.co/NIfLBopx2G"
       ]
      },
      {
       "output_type": "stream",
       "stream": "stdout",
       "text": [
        "\n",
        "RT @DataKind: Today is a #data4good kinda day at #StrataHadoop - DK volunteer @noellesio presents and @jakeporway is in the house! http://t\u2026"
       ]
      },
      {
       "output_type": "stream",
       "stream": "stdout",
       "text": [
        "\n",
        "Cameo appearance by #POTUS at @strataconf to introduce DJ Patil! #DataMatters http://t.co/TwkDJ95ksW"
       ]
      },
      {
       "output_type": "stream",
       "stream": "stdout",
       "text": [
        "\n",
        "RT @LewisNoah: Onsite @strataconf Data Anaytics.  Real-time self service ONLY winner. Only 2 firms, those born bigdata &amp; legacy trying to a\u2026"
       ]
      },
      {
       "output_type": "stream",
       "stream": "stdout",
       "text": [
        "\n",
        "@abisen: Awesome #Obama talking about Data Science &amp; @dpatil @strataconf #StrataHadoop http://t.co/F6B7Njlsll"
       ]
      },
      {
       "output_type": "stream",
       "stream": "stdout",
       "text": [
        "\n",
        "President Obama announces federal Chief Data Scientist at #Strataconf #awesome http://t.co/TlswvWvCUJ"
       ]
      },
      {
       "output_type": "stream",
       "stream": "stdout",
       "text": [
        "\n",
        "Special @BarackObama message here at #StrataHadoop #bigdata. Trust your data #DataQuality @TrilliumSW http://t.co/fEECp7WapL"
       ]
      },
      {
       "output_type": "stream",
       "stream": "stdout",
       "text": [
        "\n",
        "President Obama (on video) for StrataConf Keynote played, welcoming DJ Patel as US Federal Gov 1st Chief Data Scientist. Patel is speaking."
       ]
      },
      {
       "output_type": "stream",
       "stream": "stdout",
       "text": [
        "\n",
        "#opengov  pitch in @dpatil intro #strataconf http://t.co/XPBmnf2Rpk\n",
        "#BigData and #PrecisionMedicine: President Obama with the intro of @dpatil #strataconf http://t.co/poyJuviXwv"
       ]
      },
      {
       "output_type": "stream",
       "stream": "stdout",
       "text": [
        "\n",
        "Obama is speaking right now at #Strataconf introducing the US Chief Data Scientist DJ Patil! http://t.co/89GZvyFLzf"
       ]
      },
      {
       "output_type": "stream",
       "stream": "stdout",
       "text": [
        "\n",
        "#POTUS at #strataconf to introduce @dpatil !!! #intuitdata http://t.co/YpJnLMu5L1"
       ]
      },
      {
       "output_type": "stream",
       "stream": "stdout",
       "text": [
        "\n",
        "#StrataHadoop keynote - @BarackObama more than 135000 #data sets available on http://t.co/KjFcmtFT0R for data scientists to leverage\n",
        "Some serious back &amp; forth between #Hadoop distros - competition heating up at #StrataHadoop keynote main stage! http://t.co/FC6Om4nENk"
       ]
      },
      {
       "output_type": "stream",
       "stream": "stdout",
       "text": [
        "\n",
        "@strataconf  @dpatil -- Data Science is a Team Sport"
       ]
      },
      {
       "output_type": "stream",
       "stream": "stdout",
       "text": [
        "\n",
        "#StrataHadoop Strata + Hadoop World \u306b\u5927\u7d71\u9818\u304b\u3089\u306e\u30e1\u30c3\u30bb\u30fc\u30b8\uff01 http://t.co/zQB6SRcTdJ"
       ]
      },
      {
       "output_type": "stream",
       "stream": "stdout",
       "text": [
        "\n",
        "Introducing @dpatil #StrataHadoop http://t.co/wReLU3cTDi"
       ]
      },
      {
       "output_type": "stream",
       "stream": "stdout",
       "text": [
        "\n",
        "President Obama is introducing new Chief Data Scientist @dpatil @strataconf .. http://t.co/ziq6RNQZ6U"
       ]
      },
      {
       "output_type": "stream",
       "stream": "stdout",
       "text": [
        "\n",
        "Obama hiring data scientists for the Us Government #StrataHadoop"
       ]
      },
      {
       "output_type": "stream",
       "stream": "stdout",
       "text": [
        "\n",
        "RT @RobertsPaige: lol RT @oliverbrdiczka: Am I doing this #bigdata thing right? #StrataHadoop #strataconf http://t.co/JrFMAUY4XA"
       ]
      },
      {
       "output_type": "stream",
       "stream": "stdout",
       "text": [
        "\n",
        "RT @SnapLogic: Our @cloudera partnership focuses on making multi-in and multi-out of the hub / #datalake a Snap! #StrataHadoop http://t.co/\u2026"
       ]
      },
      {
       "output_type": "stream",
       "stream": "stdout",
       "text": [
        "\n",
        "RT @ReneeYao1: .@BarackObama at #StrataHadoop keynote!!!&lt;beyond cool! http://t.co/8UAzxh9mPQ"
       ]
      },
      {
       "output_type": "stream",
       "stream": "stdout",
       "text": [
        "\n",
        "Shout-out to Data Scientists from the president! #strataconf"
       ]
      },
      {
       "output_type": "stream",
       "stream": "stdout",
       "text": [
        "\n",
        "#StrataHadoop President Obama introduces DJ Patil @dpatil the new Data Scientist in Residence @WhiteHouse http://t.co/fN4sYCYbnh\n",
        "President Obama plugs http://t.co/YMCegCYEWc at Strata + Hadoop World #strataconf http://t.co/xisMFOcsxC"
       ]
      },
      {
       "output_type": "stream",
       "stream": "stdout",
       "text": [
        "\n",
        "Never-ending @KINDSnacks - my kind of event! #StrataHadoop http://t.co/Z3Zz7DWqXs"
       ]
      },
      {
       "output_type": "stream",
       "stream": "stdout",
       "text": [
        "\n",
        "RT @Azure: RT @InformaticaCorp: Making Data Work for Everyone with #Cloud http://t.co/yDslzEzFYQ #strataconf http://t.co/W63Syvuonk #Azure"
       ]
      },
      {
       "output_type": "stream",
       "stream": "stdout",
       "text": [
        "\n",
        "Data science is a team sport - @ThePresObama #stratahadoop IBM agrees!  http://t.co/3EP02wT4ym #hadoopnext"
       ]
      },
      {
       "output_type": "stream",
       "stream": "stdout",
       "text": [
        "\n",
        "RT @peteskomoroch: Watching Obama introduce Chief Data Scientist of the United States @dpatil at #StrataHadoop http://t.co/4YnzZSnznn http:\u2026"
       ]
      },
      {
       "output_type": "stream",
       "stream": "stdout",
       "text": [
        "\n",
        "#Obama and @dpatil say... \"#datascience is a team sport!\" #datascienctist @strataconf #StrataHadoop http://t.co/qFABADM97L"
       ]
      },
      {
       "output_type": "stream",
       "stream": "stdout",
       "text": [
        "\n",
        "RT @keithkohl: Special @BarackObama message here at #StrataHadoop #bigdata. Trust your data #DataQuality @TrilliumSW http://t.co/fEECp7WapL"
       ]
      },
      {
       "output_type": "stream",
       "stream": "stdout",
       "text": [
        "\n",
        "RT @mrogati: Unboxing Data Startups at #strataconf -@eugmandel talks abt the infrastructure we've built over the past yr @Jawbone: http://t\u2026"
       ]
      },
      {
       "output_type": "stream",
       "stream": "stdout",
       "text": [
        "\n",
        "RT @TimIntel: \"#IBMandTwitter have entered into a landmark partnership!\" says @IBM's @kocolosk at #StrataHadoop. Yep, that's the truth!"
       ]
      },
      {
       "output_type": "stream",
       "stream": "stdout",
       "text": [
        "\n",
        "RT @ReneeYao1: .@BarackObama at #StrataHadoop keynote!!!&lt;beyond cool! http://t.co/8UAzxh9mPQ"
       ]
      },
      {
       "output_type": "stream",
       "stream": "stdout",
       "text": [
        "\n",
        "RT @cloudant: If @kocolosk's #StrataHadoop keynote piqued your interest, stop by booth 1115 to hear more about @IBMbigdata, @GetdashDB &amp; #C\u2026"
       ]
      },
      {
       "output_type": "stream",
       "stream": "stdout",
       "text": [
        "\n",
        "DJ Patil introduced by President Obama at #strataconf #datascience http://t.co/Qx7G4EY53p"
       ]
      },
      {
       "output_type": "stream",
       "stream": "stdout",
       "text": [
        "\n",
        "RT @RobertsPaige: lol RT @oliverbrdiczka: Am I doing this #bigdata thing right? #StrataHadoop #strataconf http://t.co/JrFMAUY4XA"
       ]
      },
      {
       "output_type": "stream",
       "stream": "stdout",
       "text": [
        "\n",
        "RT @hippokampi: #BigData and #PrecisionMedicine: President Obama with the intro of @dpatil #strataconf http://t.co/poyJuviXwv"
       ]
      },
      {
       "output_type": "stream",
       "stream": "stdout",
       "text": [
        "\n",
        "RT @keithkohl: Special @BarackObama message here at #StrataHadoop #bigdata. Trust your data #DataQuality @TrilliumSW http://t.co/fEECp7WapL"
       ]
      },
      {
       "output_type": "stream",
       "stream": "stdout",
       "text": [
        "\n",
        "@BarackObama message at #strataconf \"Uncle Tom wants you #DataScientists\" http://t.co/UkErREehKz"
       ]
      },
      {
       "output_type": "stream",
       "stream": "stdout",
       "text": [
        "\n",
        "RT @astrobiased: At Strata @BarackObama is addressing the @strataconf people before @dpatil Keynote. Amazing to see that data science is bi\u2026"
       ]
      },
      {
       "output_type": "stream",
       "stream": "stdout",
       "text": [
        "\n",
        "RT @tansane: Look who just entered the building!! #StrataHadoop http://t.co/4K4vWg1HIW"
       ]
      },
      {
       "output_type": "stream",
       "stream": "stdout",
       "text": [
        "\n",
        "@strataconf Wow personal intro from #obama for DJ Patel...quite a way to kick off #StrataHadoop http://t.co/FcK6YihOgh"
       ]
      },
      {
       "output_type": "stream",
       "stream": "stdout",
       "text": [
        "\n",
        "Surprise welcome for DJ Patil #StrataHadoop  WOW! http://t.co/eNU4QdLbkm"
       ]
      },
      {
       "output_type": "stream",
       "stream": "stdout",
       "text": [
        "\n",
        "Today at #StrataHadoop @Oracle Advances Vision for Enterprise #BigData: http://t.co/VKpS9u9kDR"
       ]
      },
      {
       "output_type": "stream",
       "stream": "stdout",
       "text": [
        "\n",
        ".@strataconf \"In the past, we were really shooting low\" on #BigData for health. DJ Patil intro by @BarackObama http://t.co/N0hEtIsm4Y\n",
        "Watch NOW--@dpatil keynote at #StrataHadoop about his new job as 1st Chief Data Scientist of the US: http://t.co/jIdY9Musm8"
       ]
      },
      {
       "output_type": "stream",
       "stream": "stdout",
       "text": [
        "\n",
        "Obama at the Strata keynote talking about climate change where @EMCbigdata are making a difference #strataconf http://t.co/aquppFlX9c"
       ]
      },
      {
       "output_type": "stream",
       "stream": "stdout",
       "text": [
        "\n",
        "RT @secastro: President Obama announces federal Chief Data Scientist at #Strataconf #awesome http://t.co/TlswvWvCUJ"
       ]
      },
      {
       "output_type": "stream",
       "stream": "stdout",
       "text": [
        "\n",
        "#StrataHadoop Wow @BarackObama introduces DJ @dpatil (now 1st US Chief Data Scientist) - calls for Data Scientists to build better services"
       ]
      },
      {
       "output_type": "stream",
       "stream": "stdout",
       "text": [
        "\n",
        "Special guest intro of @dpatil by @BarackObama #StrataHadoop a - \u201cData Science is a team sport\" http://t.co/9khzQ8R2Az"
       ]
      },
      {
       "output_type": "stream",
       "stream": "stdout",
       "text": [
        "\n",
        "RT @cloudant: \"It's not about the data. It's what you do with it that really matters.\" - @kocolosk #StrataHadoop"
       ]
      },
      {
       "output_type": "stream",
       "stream": "stdout",
       "text": [
        "\n",
        "Surprise message from Obama here at #strataconf introducing @dpatil, imploring us to do #datascience http://t.co/dvonW4Dj3F"
       ]
      },
      {
       "output_type": "stream",
       "stream": "stdout",
       "text": [
        "\n",
        "RT @JenMcGinnChi: Fully managed #cloud service with #dashDB @kocolosk #stratahadoop keynote visit booth 1115 for more info and to see a dem\u2026"
       ]
      },
      {
       "output_type": "stream",
       "stream": "stdout",
       "text": [
        "\n",
        "RT @PrabhaGana: Understanding &amp; innovating w data has potential to change anything we do with data! #Obama online at #StrataHadoop! http://\u2026"
       ]
      },
      {
       "output_type": "stream",
       "stream": "stdout",
       "text": [
        "\n",
        "RT @cloudant: If @kocolosk's #StrataHadoop keynote piqued your interest, stop by booth 1115 to hear more about @IBMbigdata, @GetdashDB &amp; #C\u2026"
       ]
      },
      {
       "output_type": "stream",
       "stream": "stdout",
       "text": [
        "\n",
        "It's a big day for #BigData: @Oracle announces GA of GoldenGate for Big Data + Big Data Discovery! http://t.co/rzC6HAGQW3 #StrataHadoop"
       ]
      },
      {
       "output_type": "stream",
       "stream": "stdout",
       "text": [
        "\n",
        "RT @IBMbigdata: \"It's not about the data, it's about what you do with the data that matters.\" - @Kocolosk #strataconf #hadoopnext"
       ]
      },
      {
       "output_type": "stream",
       "stream": "stdout",
       "text": [
        "\n",
        "\"So much has changed since the first @strataconf... no one could have imagined how much has happened!\" - @dpatil #StrataHadoop\n",
        "RT @JackVaughanatTT: Cloudera's Amr explains xplain purchase:It can analyze the query logs of data warehouse and infer the schema #StrataHa\u2026"
       ]
      },
      {
       "output_type": "stream",
       "stream": "stdout",
       "text": [
        "\n",
        "\"#Data science is a team work! Help us unleash new #innovation.\" @BarackObama #StrataHadoop keynote. #bigdata http://t.co/C1GEbMv7hY"
       ]
      },
      {
       "output_type": "stream",
       "stream": "stdout",
       "text": [
        "\n",
        "RT @dpatil: Hey data scientists. I've got a special message for you coming up. Tune in here: http://t.co/qJMwwHJK1T"
       ]
      },
      {
       "output_type": "stream",
       "stream": "stdout",
       "text": [
        "\n",
        "No pressure! @dpatil gets a presidential introduction from @BarackObama @strataconf #StrataHadoop http://t.co/N5LQUpkgO5"
       ]
      },
      {
       "output_type": "stream",
       "stream": "stdout",
       "text": [
        "\n",
        "@BarackObama, @dpatil and data at #StrataHadoop http://t.co/zJmoWIxAww"
       ]
      },
      {
       "output_type": "stream",
       "stream": "stdout",
       "text": [
        "\n",
        "RT @secastro: President Obama announces federal Chief Data Scientist at #Strataconf #awesome http://t.co/TlswvWvCUJ"
       ]
      },
      {
       "output_type": "stream",
       "stream": "stdout",
       "text": [
        "\n",
        "@BarackObama has opened up a massive amount of gov't data at http://t.co/wryAIXNM0x. Lots of data to examine for new insights at @strataconf"
       ]
      },
      {
       "output_type": "stream",
       "stream": "stdout",
       "text": [
        "\n",
        "RT @peteskomoroch: Watching Obama introduce Chief Data Scientist of the United States @dpatil at #StrataHadoop http://t.co/4YnzZSnznn http:\u2026"
       ]
      },
      {
       "output_type": "stream",
       "stream": "stdout",
       "text": [
        "\n",
        "Greetings from the president at #StrataHadoop #strataconf http://t.co/XoqUuKHVwo"
       ]
      },
      {
       "output_type": "stream",
       "stream": "stdout",
       "text": [
        "\n",
        "RT @BethTSmith: \"#IBM has been supporter of ASF since beginning\" @kocolosk #StrataConf"
       ]
      },
      {
       "output_type": "stream",
       "stream": "stdout",
       "text": [
        "\n",
        "RT @nrouda: Obama says half of his staff's jokes about data science are below average. #StrataHadoop http://t.co/3Mg5qern4Y"
       ]
      },
      {
       "output_type": "stream",
       "stream": "stdout",
       "text": [
        "\n",
        "RT @strataconf: Happening NOW at #StrataHadoop: @BarackObama announcing @dpatil of @WhiteHouse http://t.co/NSVqLmzaeb"
       ]
      },
      {
       "output_type": "stream",
       "stream": "stdout",
       "text": [
        "\n",
        "RT @BethTSmith: From particle physics to #bigdata #StrataConf - @kocolosk"
       ]
      },
      {
       "output_type": "stream",
       "stream": "stdout",
       "text": [
        "\n",
        "data science for good has made its way to the White House. Go @dpatil @strataconf #StrataHadoop #intuitdata http://t.co/cAQ27XchUf"
       ]
      },
      {
       "output_type": "stream",
       "stream": "stdout",
       "text": [
        "\n",
        "RT @czovod: #StrataHadoop nice shout out from #IBM on Open Data Platform, freedom and choice for the market."
       ]
      },
      {
       "output_type": "stream",
       "stream": "stdout",
       "text": [
        "\n",
        "@BarackObama urging all #DataScientists to come together and make a difference. #StrataHadoop http://t.co/EbTyGvfGJV"
       ]
      },
      {
       "output_type": "stream",
       "stream": "stdout",
       "text": [
        "\n",
        "RT @hippokampi: #BigData and #PrecisionMedicine: President Obama with the intro of @dpatil #strataconf http://t.co/poyJuviXwv"
       ]
      },
      {
       "output_type": "stream",
       "stream": "stdout",
       "text": [
        "\n",
        "RT @IBMbigdata: \"It's not about the data, it's about what you do with the data that matters.\" - @Kocolosk #strataconf #hadoopnext"
       ]
      },
      {
       "output_type": "stream",
       "stream": "stdout",
       "text": [
        "\n",
        "RT @samarthbhaskar: Obama Data Science shoutout right now at #strataconf http://t.co/L9KTCnEcL0"
       ]
      },
      {
       "output_type": "stream",
       "stream": "stdout",
       "text": [
        "\n",
        "RT @kestelyn: Holy crap. @BarackObama is \"here\" and just said \"data science.\" #StrataHadoop http://t.co/fXdGjlf2c5"
       ]
      },
      {
       "output_type": "stream",
       "stream": "stdout",
       "text": [
        "\n",
        "RT @abisen: @abisen: Awesome #Obama talking about Data Science &amp; @dpatil @strataconf #StrataHadoop http://t.co/XxaFfHXo7U"
       ]
      },
      {
       "output_type": "stream",
       "stream": "stdout",
       "text": [
        "\n",
        "RT @abisen: @abisen: Awesome #Obama talking about Data Science &amp; @dpatil @strataconf #StrataHadoop http://t.co/Rk8SgMN23P"
       ]
      },
      {
       "output_type": "stream",
       "stream": "stdout",
       "text": [
        "\n",
        "RT @sarawinge: Watch NOW--@dpatil keynote at #StrataHadoop about his new job as 1st Chief Data Scientist of the US: http://t.co/jIdY9Musm8"
       ]
      },
      {
       "output_type": "stream",
       "stream": "stdout",
       "text": [
        "\n",
        "New US Chief Data Scientist  @dpatil announced by @BarackObama at #StrataHadoop. \"Data science is a team sport.\u201d http://t.co/gBbFMA1Nlh"
       ]
      },
      {
       "output_type": "stream",
       "stream": "stdout",
       "text": [
        "\n",
        "RT @kdnuggets: #StrataHadoop Wow @BarackObama introduces DJ @dpatil (now 1st US Chief Data Scientist) - calls for Data Scientists to build \u2026"
       ]
      },
      {
       "output_type": "stream",
       "stream": "stdout",
       "text": [
        "\n",
        "RT @kestelyn: Holy crap. @BarackObama is \"here\" and just said \"data science.\" #StrataHadoop http://t.co/fXdGjlf2c5"
       ]
      },
      {
       "output_type": "stream",
       "stream": "stdout",
       "text": [
        "\n",
        "RT @PrabhaGana: Understanding &amp; innovating w data has potential to change anything we do with data! #Obama online at #StrataHadoop! http://\u2026"
       ]
      },
      {
       "output_type": "stream",
       "stream": "stdout",
       "text": [
        "\n",
        "RT @sarawinge: Watch NOW--@dpatil keynote at #StrataHadoop about his new job as 1st Chief Data Scientist of the US: http://t.co/jIdY9Musm8"
       ]
      },
      {
       "output_type": "stream",
       "stream": "stdout",
       "text": [
        "\n",
        "RT @revodavid: IBM committing to R with in-Hadoop analytics and with dashDB #strataconf"
       ]
      },
      {
       "output_type": "stream",
       "stream": "stdout",
       "text": [
        "\n",
        "Data science is a team sport... Obama intros @dpatil... at #strataconf #StrataHadoop #Hadoop #bigdata http://t.co/9ZBHSOzNPm"
       ]
      },
      {
       "output_type": "stream",
       "stream": "stdout",
       "text": [
        "\n",
        "RT @h2oai: Packed #h2o at #strataconf #MLisTheNewSQL #bigdata http://t.co/uUSITEMOAr"
       ]
      },
      {
       "output_type": "stream",
       "stream": "stdout",
       "text": [
        "\n",
        "RT @sharonxlin: Where #IBM meets #twitter. Interesting talk about analytics from IBM @strataconf #StrataConf #hadoopworld #bigdata http://t\u2026"
       ]
      },
      {
       "output_type": "stream",
       "stream": "stdout",
       "text": [
        "\n",
        "Wow. @BarackObama Just made a call out inviting Data Scientists to come out and contribute http://t.co/4fUev9LOzi"
       ]
      },
      {
       "output_type": "stream",
       "stream": "stdout",
       "text": [
        "\n",
        "Opening remarks from President @BarackObama before @djpatil takes the stage at #StrataHadoop http://t.co/RITZqFejfd"
       ]
      },
      {
       "output_type": "stream",
       "stream": "stdout",
       "text": [
        "\n",
        "RT @kdnuggets: #StrataHadoop Wow @BarackObama introduces DJ @dpatil (now 1st US Chief Data Scientist) - calls for Data Scientists to build \u2026\n",
        "Go @GetdashDB MT @ScottIntel: This thing is state of the art, delivered as a fully managed #cloudservice\u201c - @kocolosk @IBM @strataconf"
       ]
      },
      {
       "output_type": "stream",
       "stream": "stdout",
       "text": [
        "\n",
        "RT @cloudant: If @kocolosk's #StrataHadoop keynote piqued your interest, stop by booth 1115 to hear more about @IBMbigdata, @GetdashDB &amp; #C\u2026"
       ]
      },
      {
       "output_type": "stream",
       "stream": "stdout",
       "text": [
        "\n",
        "RT @dpatil: Hey data scientists. I've got a special message for you coming up. Tune in here: http://t.co/qJMwwHJK1T"
       ]
      },
      {
       "output_type": "stream",
       "stream": "stdout",
       "text": [
        "\n",
        "@couchbase and @PayPal demonstrate #NoSQL #Hadoop #bigdata architecture at #StrataConf http://t.co/BgPvfuGXwr"
       ]
      },
      {
       "output_type": "stream",
       "stream": "stdout",
       "text": [
        "\n",
        "RT @sarawinge: Watch NOW--@dpatil keynote at #StrataHadoop about his new job as 1st Chief Data Scientist of the US: http://t.co/jIdY9Musm8"
       ]
      },
      {
       "output_type": "stream",
       "stream": "stdout",
       "text": [
        "\n",
        "Surprise speaker at #StrataHadoop. @BarackObama introduces D.J. Patel, White House's Data Scientist &amp; talks open data http://t.co/OGCl58YkZg"
       ]
      },
      {
       "output_type": "stream",
       "stream": "stdout",
       "text": [
        "\n",
        "RT @kbhmudge: data science for good has made its way to the White House. Go @dpatil @strataconf #StrataHadoop #intuitdata http://t.co/cAQ27\u2026"
       ]
      },
      {
       "output_type": "stream",
       "stream": "stdout",
       "text": [
        "\n",
        "Okay, yes, having the audience addressed by @BarackObama makes up for a lot at #StrataHadoop keynote. \ud83d\ude33 http://t.co/u9CH3lnksh"
       ]
      },
      {
       "output_type": "stream",
       "stream": "stdout",
       "text": [
        "\n",
        "RT @profjsb: Surprise message from Obama here at #strataconf introducing @dpatil, imploring us to do #datascience http://t.co/dvonW4Dj3F"
       ]
      },
      {
       "output_type": "stream",
       "stream": "stdout",
       "text": [
        "\n",
        "\"Krueger21: http://t.co/35flGrLZsT strataconf Wow personal intro from #obama for DJ Patel...quite a way to kick \u2026 http://t.co/pBTAcgbk1t"
       ]
      },
      {
       "output_type": "stream",
       "stream": "stdout",
       "text": [
        "\n",
        "RT @ventanaresearch: Want analysis on @OracleBigData  &amp; analytics announcements? @tonycosentinovr analysis http://t.co/3z6oMvexhs #StrataCo\u2026"
       ]
      },
      {
       "output_type": "stream",
       "stream": "stdout",
       "text": [
        "\n",
        "RT @JenMcGinnChi: Data science is a team sport - @ThePresObama #stratahadoop IBM agrees!  http://t.co/3EP02wT4ym #hadoopnext"
       ]
      },
      {
       "output_type": "stream",
       "stream": "stdout",
       "text": [
        "\n",
        "RT @IBMbigdata: Looking for more updates from #strataconf? Follow IBMers, @JenMcGinnChi &amp; @BethTSmith for live updates from the ground. #ha\u2026"
       ]
      },
      {
       "output_type": "stream",
       "stream": "stdout",
       "text": [
        "\n",
        "RT @Intuit: .@strataconf attendees: Don't miss Laura Fennell &amp; @BLoconzolo this week at #StrataHadoop! http://t.co/wUmp6qfsXx http://t.co/e\u2026"
       ]
      },
      {
       "output_type": "stream",
       "stream": "stdout",
       "text": [
        "\n",
        "RT @Cascadia: Special guest intro of @dpatil by @BarackObama #StrataHadoop a - \u201cData Science is a team sport\" http://t.co/9khzQ8R2Az"
       ]
      },
      {
       "output_type": "stream",
       "stream": "stdout",
       "text": [
        "\n",
        "RT @Intuit: .@anutewary @datariver @jrgoldman talk data at #StrataHadoop &amp; don't miss their office hour: http://t.co/vqb3rX8HJy. http://t.c\u2026"
       ]
      },
      {
       "output_type": "stream",
       "stream": "stdout",
       "text": [
        "\n",
        "RT @IBMbigdata: Looking for more updates from #strataconf? Follow IBMers, @JenMcGinnChi &amp; @BethTSmith for live updates from the ground. #ha\u2026"
       ]
      },
      {
       "output_type": "stream",
       "stream": "stdout",
       "text": [
        "\n",
        "Obama on his lack of DS jokes: \"Half of what my staff gave me was below average\" #strataconf http://t.co/XzhQAmNtpf"
       ]
      },
      {
       "output_type": "stream",
       "stream": "stdout",
       "text": [
        "\n",
        "Yll\u00e4tysspiikkeri, ei tosin tullut paikalle liven\u00e4 #StrataHadoop http://t.co/XVJVTwY1mq"
       ]
      },
      {
       "output_type": "stream",
       "stream": "stdout",
       "text": [
        "\n",
        "RT @profjsb: Surprise message from Obama here at #strataconf introducing @dpatil, imploring us to do #datascience http://t.co/dvonW4Dj3F"
       ]
      },
      {
       "output_type": "stream",
       "stream": "stdout",
       "text": [
        "\n",
        "Politicians &amp; data? Get truth on 2015 agenda for #bigdata analytics from @TonyCosentinoVR http://t.co/awu7xZkiou #strataconf"
       ]
      },
      {
       "output_type": "stream",
       "stream": "stdout",
       "text": [
        "\n",
        "RT @joe_hellerstein: Trifacta is presenting six (6!) talks at #strataconf, including #GoPro speaking at 4:50 today, and @jeffrey_heer keyno\u2026"
       ]
      },
      {
       "output_type": "stream",
       "stream": "stdout",
       "text": [
        "\n",
        "#Obama introduces DJ Patil at #StrataHadoop"
       ]
      },
      {
       "output_type": "stream",
       "stream": "stdout",
       "text": [
        "\n",
        "RT @pivotal: At #stratahadoop? Come by booth #721 to see Pivotal Big Data Suite in action &amp; meet our data science team."
       ]
      },
      {
       "output_type": "stream",
       "stream": "stdout",
       "text": [
        "\n",
        "RT @peteskomoroch: Watching Obama introduce Chief Data Scientist of the United States @dpatil at #StrataHadoop http://t.co/4YnzZSnznn http:\u2026"
       ]
      },
      {
       "output_type": "stream",
       "stream": "stdout",
       "text": [
        "\n",
        "RT @dpatil: Hey data scientists. I've got a special message for you coming up. Tune in here: http://t.co/qJMwwHJK1T"
       ]
      },
      {
       "output_type": "stream",
       "stream": "stdout",
       "text": [
        "\n",
        "\"Data Science is a team sport\" - POTUS citing @dpatil in his address to the data science community #StrataHadoop http://t.co/rTvp2O1oKL"
       ]
      },
      {
       "output_type": "stream",
       "stream": "stdout",
       "text": [
        "\n",
        "#StrataHadoop Hearing intriguing words of wisdom from DJ Patil @dpatil the new Chief Data Scientist @WhiteHouse http://t.co/9tZZtlBygH"
       ]
      },
      {
       "output_type": "stream",
       "stream": "stdout",
       "text": [
        "\n",
        "Next up at our #StrataHadoop booth: Schema-free SQL Queries for Hadoop &amp; NoSQL with Tomer Shiran"
       ]
      },
      {
       "output_type": "stream",
       "stream": "stdout",
       "text": [
        "\n",
        "Tweet your fave RT @brookefortson: Buttons, buttons, get your #databutton! #StrataHadoop #SAS Booth 1022 http://t.co/j2yg0z4xyG"
       ]
      },
      {
       "output_type": "stream",
       "stream": "stdout",
       "text": [
        "\n",
        "RT @RobertsPaige: lol RT @oliverbrdiczka: Am I doing this #bigdata thing right? #StrataHadoop #strataconf http://t.co/JrFMAUY4XA"
       ]
      },
      {
       "output_type": "stream",
       "stream": "stdout",
       "text": [
        "\n",
        "Potus in the #StrataHadoop house! Love that Obama himself intro'd @dpatil. Data science: vital to our entire nation http://t.co/mjasf098jH"
       ]
      },
      {
       "output_type": "stream",
       "stream": "stdout",
       "text": [
        "\n",
        "Wow! Pres Obama introduces Federal govt. first data scientist. #StrataConf @IBMbigdata http://t.co/ldThJOOG2A"
       ]
      },
      {
       "output_type": "stream",
       "stream": "stdout",
       "text": [
        "\n",
        "RT @tweetgrady: #StrataHadoop keynote - @BarackObama more than 135000 #data sets available on http://t.co/KjFcmtFT0R for data scientists to\u2026"
       ]
      },
      {
       "output_type": "stream",
       "stream": "stdout",
       "text": [
        "\n",
        "RT @kbhmudge: Makes me want to give #hadoop a big hug! @strataconf #StrataHadoop #intuitdata http://t.co/5oR596E875"
       ]
      },
      {
       "output_type": "stream",
       "stream": "stdout",
       "text": [
        "\n",
        "Whoa, @BarackObama anounces @dpatil 's appointment to the US government. Impressive how far #StrataHadoop has evolved http://t.co/diXUbo4cNG"
       ]
      },
      {
       "output_type": "stream",
       "stream": "stdout",
       "text": [
        "\n",
        "Yes #Obama \"showed up\" at #StrataConf. Great announcement about government push of data utilization. #bigdata #POTUS http://t.co/DPvPPQ5jI0"
       ]
      },
      {
       "output_type": "stream",
       "stream": "stdout",
       "text": [
        "\n",
        "Wow @BarackObama  just addressed data scientists @strataconf. Looks like US government is serious about Data Science."
       ]
      },
      {
       "output_type": "stream",
       "stream": "stdout",
       "text": [
        "\n",
        "RT @strataconf: Happening NOW at #StrataHadoop: @BarackObama announcing @dpatil of @WhiteHouse http://t.co/NIfLBopx2G"
       ]
      },
      {
       "output_type": "stream",
       "stream": "stdout",
       "text": [
        "\n",
        "RT @ivanh: No pressure! @dpatil gets a presidential introduction from @BarackObama @strataconf #StrataHadoop http://t.co/N5LQUpkgO5"
       ]
      },
      {
       "output_type": "stream",
       "stream": "stdout",
       "text": [
        "\n",
        "RT @sarawinge: Watch NOW--@dpatil keynote at #StrataHadoop about his new job as 1st Chief Data Scientist of the US: http://t.co/jIdY9Musm8"
       ]
      },
      {
       "output_type": "stream",
       "stream": "stdout",
       "text": [
        "\n",
        "\"One of the most awesome things for me personally is how much our government has embraced #datascience\" -@dpatil at #StrataHadoop"
       ]
      },
      {
       "output_type": "stream",
       "stream": "stdout",
       "text": [
        "\n",
        "RT @annikaalford: Obama on his lack of DS jokes: \"Half of what my staff gave me was below average\" #strataconf http://t.co/XzhQAmNtpf"
       ]
      },
      {
       "output_type": "stream",
       "stream": "stdout",
       "text": [
        "\n",
        "Unbelievable the pres of the USA at #StrataHadoop bravo organizers, bravo! He knows bigdata is the key; the good, the bad, the spyie...haha"
       ]
      },
      {
       "output_type": "stream",
       "stream": "stdout",
       "text": [
        "\n",
        "RT @strataconf: Lisa Hammitt discussing #wearables, IoT, and #bigdata at #StrataHadoop http://t.co/RMJmaKhmpN\n",
        ".@dpatil, freshly minted chief data scientist at @WhiteHouse: \"our government has embraced data science\" in past 4 years #StrataHadoop"
       ]
      },
      {
       "output_type": "stream",
       "stream": "stdout",
       "text": [
        "\n",
        "Look who stopped by to introduce the U.S. Chief Data Scientist #strataconf #StrataHadoop http://t.co/yDGupRdIlu"
       ]
      },
      {
       "output_type": "stream",
       "stream": "stdout",
       "text": [
        "\n",
        "Intro! #POTUS cites power of #BigData welcoming newly appted Chief Data Scientist @dpatil to #StrataHadoop stage. http://t.co/Pymmr5t3BW"
       ]
      },
      {
       "output_type": "stream",
       "stream": "stdout",
       "text": [
        "\n",
        "RT @ScottIntel: #Obama and @dpatil say... \"#datascience is a team sport!\" #datascienctist @strataconf #StrataHadoop http://t.co/qFABADM97L"
       ]
      },
      {
       "output_type": "stream",
       "stream": "stdout",
       "text": [
        "\n",
        "Obama introducing @dpatil - the first US Chief Data Scientist - at #stratahadoop http://t.co/qzpribDPxY"
       ]
      },
      {
       "output_type": "stream",
       "stream": "stdout",
       "text": [
        "\n",
        "Obama introducing DJ Patil at @strataconf #datascience #datadrivenpresident http://t.co/lZ2ri6JmcQ"
       ]
      },
      {
       "output_type": "stream",
       "stream": "stdout",
       "text": [
        "\n",
        "RT @strataconf: .@kocolosk of @Ibm &amp; @cloudant at #StrataHadoop World on the IBM/ @twitter alliance http://t.co/ACU1PXA4nC"
       ]
      },
      {
       "output_type": "stream",
       "stream": "stdout",
       "text": [
        "\n",
        "RT @kdnuggets: #StrataHadoop Wow @BarackObama introduces DJ @dpatil (now 1st US Chief Data Scientist) - calls for Data Scientists to build \u2026"
       ]
      },
      {
       "output_type": "stream",
       "stream": "stdout",
       "text": [
        "\n",
        "Think data is important? Intro video from a special guest at #stratahadoop http://t.co/1aPxPVHFkp"
       ]
      },
      {
       "output_type": "stream",
       "stream": "stdout",
       "text": [
        "\n",
        "@dpatil takes the stage after message and  introduction by @BarackObama. Excitement is on. #StrataHadoop Keynote."
       ]
      },
      {
       "output_type": "stream",
       "stream": "stdout",
       "text": [
        "\n",
        "@BarackObama announces @dpatil as the first U.S. Chief Data Scientist #strataconf #StrataHadoop #datascience http://t.co/oaLujbnRVT"
       ]
      },
      {
       "output_type": "stream",
       "stream": "stdout",
       "text": [
        "\n",
        ".@dpatil Up now @strataconf #StrataHadoop #strataconf #weather #DataScience http://t.co/aBonlHLkWP http://t.co/bUoVXJ2s3t"
       ]
      },
      {
       "output_type": "stream",
       "stream": "stdout",
       "text": [
        "\n",
        "@dpatil seeing new training programs to meet the demand of data professionals &lt; :-) glad to do our part at @Dataversity #StrataHadoop"
       ]
      },
      {
       "output_type": "stream",
       "stream": "stdout",
       "text": [
        "\n",
        "Pres. Obama brings #BigData humor to #StrataHadoop \u201cAbout half the jokes my staff came up w were below average.\u201d http://t.co/Ch8GEKqrwY"
       ]
      },
      {
       "output_type": "stream",
       "stream": "stdout",
       "text": [
        "\n",
        "RT @kestelyn: .@awadallah: Hadoop isn't just Hadoop anymore. It's become a kernel with 20+ complementary components. #StrataHadoop http://t\u2026"
       ]
      },
      {
       "output_type": "stream",
       "stream": "stdout",
       "text": [
        "\n",
        "#DJPatil first US Chief Data Officer takes the stage @strataconf #StrataHadoop http://t.co/fJ1EgiXEME"
       ]
      },
      {
       "output_type": "stream",
       "stream": "stdout",
       "text": [
        "\n",
        "RT @strataconf: Happening NOW at #StrataHadoop: @BarackObama announcing @dpatil of @WhiteHouse http://t.co/NIfLBopx2G"
       ]
      },
      {
       "output_type": "stream",
       "stream": "stdout",
       "text": [
        "\n",
        "Now on stage @dpatil talking about data science and government &amp; oh yeah, @BarackObama introduced him! #StrataHadoop"
       ]
      },
      {
       "output_type": "stream",
       "stream": "stdout",
       "text": [
        "\n",
        "RT @RapidMiner: Visit #RapidMiner's Booth #1421 at #strataconf to pick up a good book, enjoy an energy drink &amp; demo our platform! http://t.\u2026"
       ]
      },
      {
       "output_type": "stream",
       "stream": "stdout",
       "text": [
        "\n",
        "RT @AMULETAnalytics: #StrataHadoop President Obama introduces DJ Patil @dpatil the new Data Scientist in Residence @WhiteHouse http://t.co/\u2026"
       ]
      },
      {
       "output_type": "stream",
       "stream": "stdout",
       "text": [
        "\n",
        "RT @digiphile: \"As @dpatil likes to say, data science is a team sport.\"- @BarackObama http://t.co/4nNnbQOw0d #StrataConf"
       ]
      },
      {
       "output_type": "stream",
       "stream": "stdout",
       "text": [
        "\n",
        "WoW ! Data-driven President @BarackObama announcing and introducing chief #DataScientist  @dpatil of @WhiteHouse at #StrataHadoop"
       ]
      },
      {
       "output_type": "stream",
       "stream": "stdout",
       "text": [
        "\n",
        "RT @kestelyn: Holy crap. @BarackObama is \"here\" and just said \"data science.\" #StrataHadoop http://t.co/fXdGjlf2c5"
       ]
      },
      {
       "output_type": "stream",
       "stream": "stdout",
       "text": [
        "\n",
        "RT @dbstodder: Taking in keynotes #StrataHadoop after great mtgs yest w @platfora @Teradata @LookerData @mapr @hortonworks @SkytreeHQ @Pent\u2026"
       ]
      },
      {
       "output_type": "stream",
       "stream": "stdout",
       "text": [
        "\n",
        "Virtual 'visit' from @BarackObama announcing @dpatil as US's first Chief Data Scientist and #opendata! #StrataHadoop #progress @strataconf"
       ]
      },
      {
       "output_type": "stream",
       "stream": "stdout",
       "text": [
        "\n",
        "RT @MCanalytics: #womenintech are rockin #strataconf @Bencheton @ellenfriedman http://t.co/d190GLsB6O"
       ]
      },
      {
       "output_type": "stream",
       "stream": "stdout",
       "text": [
        "\n",
        "RT @kestelyn: .@dpatil, freshly minted chief data scientist at @WhiteHouse: \"our government has embraced data science\" in past 4 years #Str\u2026"
       ]
      },
      {
       "output_type": "stream",
       "stream": "stdout",
       "text": [
        "\n",
        "Data driven world #bigdata #Cloudera #StrataHadoop http://t.co/cIN6D0Ur8p"
       ]
      },
      {
       "output_type": "stream",
       "stream": "stdout",
       "text": [
        "\n",
        "RT @IBMbigdata: \"It's not about the data, it's about what you do with the data that matters.\" - @Kocolosk #strataconf #hadoopnext"
       ]
      },
      {
       "output_type": "stream",
       "stream": "stdout",
       "text": [
        "\n",
        "RT @akarcher: Think data is important? Intro video from a special guest at #stratahadoop http://t.co/1aPxPVHFkp"
       ]
      },
      {
       "output_type": "stream",
       "stream": "stdout",
       "text": [
        "\n",
        "RT @tweetgrady: #StrataHadoop keynote - @BarackObama more than 135000 #data sets available on http://t.co/KjFcmtFT0R for data scientists to\u2026"
       ]
      },
      {
       "output_type": "stream",
       "stream": "stdout",
       "text": [
        "\n",
        "RT @AMULETAnalytics: #StrataHadoop Looking forward to hearing @dpatil, White House data scientist in residence, live in a few minutes http:\u2026"
       ]
      },
      {
       "output_type": "stream",
       "stream": "stdout",
       "text": [
        "\n",
        "Data driven pres RT @nrouda: Obama says half of his staff's jokes about data science are below average. #StrataHadoop http://t.co/KTB2A2rdhT"
       ]
      },
      {
       "output_type": "stream",
       "stream": "stdout",
       "text": [
        "\n",
        "President Obama introduces Chief Data Officer @dpatil at @strataconf ! http://t.co/zXCypZRho5"
       ]
      },
      {
       "output_type": "stream",
       "stream": "stdout",
       "text": [
        "\n",
        "Obama is the most data driven president America ever had #strataconf"
       ]
      },
      {
       "output_type": "stream",
       "stream": "stdout",
       "text": [
        "\n",
        "President @BarackObama virtually introducing @dpatil @strataconf @cloudera http://t.co/NUguKnobhx"
       ]
      },
      {
       "output_type": "stream",
       "stream": "stdout",
       "text": [
        "\n",
        ".@dpatil says \"This is literally the most data driven president we've ever had... how phenomenal!\" #StrataHadoop http://t.co/mZHHrCwN23"
       ]
      },
      {
       "output_type": "stream",
       "stream": "stdout",
       "text": [
        "\n",
        "@strataconf @dpatil congratulations!"
       ]
      },
      {
       "output_type": "stream",
       "stream": "stdout",
       "text": [
        "\n",
        "\"The most data driven president we've ever had\" (@dpatil) #StrataHadoop"
       ]
      },
      {
       "output_type": "stream",
       "stream": "stdout",
       "text": [
        "\n",
        "RT @furukama: \"Data Science is a team sport\" - POTUS citing @dpatil in his address to the data science community #StrataHadoop http://t.co/\u2026"
       ]
      },
      {
       "output_type": "stream",
       "stream": "stdout",
       "text": [
        "\n",
        "RT @AMULETAnalytics: #StrataHadoop Looking forward to hearing @dpatil, White House data scientist in residence, live in a few minutes http:\u2026"
       ]
      },
      {
       "output_type": "stream",
       "stream": "stdout",
       "text": [
        "\n",
        "RT @IBMbigdata: \"It's not about the data, it's about what you do with the data that matters.\" - @Kocolosk #strataconf #hadoopnext"
       ]
      },
      {
       "output_type": "stream",
       "stream": "stdout",
       "text": [
        "\n",
        "Barack Obama asking #StrataHadoop to innovate and create progress for all of us! http://t.co/HOAilGYQ9W"
       ]
      },
      {
       "output_type": "stream",
       "stream": "stdout",
       "text": [
        "\n",
        "Message from President Obama introducing @djpatil at #StrataHadoop http://t.co/ShRUtjk0Jy"
       ]
      },
      {
       "output_type": "stream",
       "stream": "stdout",
       "text": [
        "\n",
        "#strataconf peeps Stop by booth P8, say Hi &amp; pick up $50 of free compute time on Domino #datascience #StrataHadoop http://t.co/O9xc7VN3Yy"
       ]
      },
      {
       "output_type": "stream",
       "stream": "stdout",
       "text": [
        "\n",
        "Surprise speaker at #StrataHadoop. @BarackObama introduces DJ Patil, White House's Data Scientist &amp; talks open data http://t.co/EOJL1Z3KXt"
       ]
      },
      {
       "output_type": "stream",
       "stream": "stdout",
       "text": [
        "\n",
        "RT @kdnuggets: #StrataHadoop Wow @BarackObama introduces DJ @dpatil (now 1st US Chief Data Scientist) - calls for Data Scientists to build \u2026"
       ]
      },
      {
       "output_type": "stream",
       "stream": "stdout",
       "text": [
        "\n",
        "\"@BarackObama is the first data driven president; he looks on data dashbords every day.\" @dpatil #StrataHadoop"
       ]
      },
      {
       "output_type": "stream",
       "stream": "stdout",
       "text": [
        "\n",
        "Watch @dpatil live stream now, new US Chief Data Scientist http://t.co/0hPx06sxSd. \u201cThis is the most data-driven president we\u2019ve ever had.\""
       ]
      },
      {
       "output_type": "stream",
       "stream": "stdout",
       "text": [
        "\n",
        "This is the most data-driven presidential administration ever. #StrataHadoop"
       ]
      },
      {
       "output_type": "stream",
       "stream": "stdout",
       "text": [
        "\n",
        "#StrataHadoop DJ @dpatil: @BarackObama is the most data-driven president we ever had"
       ]
      },
      {
       "output_type": "stream",
       "stream": "stdout",
       "text": [
        "\n",
        "DJ Patil says gov't embracing data science, but it was the least likely sector to be increasing IT spending says ESG research. #stratahadoop"
       ]
      },
      {
       "output_type": "stream",
       "stream": "stdout",
       "text": [
        "\n",
        "@BarackObama introducing @dpatil at @strataconf #StrataHadoop #inspiring http://t.co/8D1NYPj2od"
       ]
      },
      {
       "output_type": "stream",
       "stream": "stdout",
       "text": [
        "\n",
        "RT @peteskomoroch: Watching Obama introduce Chief Data Scientist of the United States @dpatil at #StrataHadoop http://t.co/4YnzZSnznn http:\u2026"
       ]
      },
      {
       "output_type": "stream",
       "stream": "stdout",
       "text": [
        "\n",
        "Get truth &amp; perspective on #BigData integration from our Chief Research Officer @marksmithvr http://t.co/zry8XBLbTH #StrataConf"
       ]
      },
      {
       "output_type": "stream",
       "stream": "stdout",
       "text": [
        "\n",
        "RT @RobertsPaige: Data driven pres RT @nrouda: Obama says half of his staff's jokes about data science are below average. #StrataHadoop htt\u2026"
       ]
      },
      {
       "output_type": "stream",
       "stream": "stdout",
       "text": [
        "\n",
        "Big week for DJ Patil: @cloudera webinar on Wed, introduced by @BarackObama as White House Chief Data Scientist at #StrataHadoop on Thurs"
       ]
      },
      {
       "output_type": "stream",
       "stream": "stdout",
       "text": [
        "\n",
        "RT @mapr: Barack Obama asking #StrataHadoop to innovate and create progress for all of us! http://t.co/HOAilGYQ9W"
       ]
      },
      {
       "output_type": "stream",
       "stream": "stdout",
       "text": [
        "\n",
        "The #StrataConf journey so far. #StrataHadoop http://t.co/A66uM8vFbV"
       ]
      },
      {
       "output_type": "stream",
       "stream": "stdout",
       "text": [
        "\n",
        "President Obama announces @dpatil nomination as first U.S. Chief Data Scientist @strataconf http://t.co/lIPopp27De"
       ]
      },
      {
       "output_type": "stream",
       "stream": "stdout",
       "text": [
        "\n",
        "RT @peteskomoroch: Watching Obama introduce Chief Data Scientist of the United States @dpatil at #StrataHadoop http://t.co/4YnzZSnznn http:\u2026"
       ]
      },
      {
       "output_type": "stream",
       "stream": "stdout",
       "text": [
        "\n",
        "RT @kestelyn: .@dpatil, freshly minted chief data scientist at @WhiteHouse: \"our government has embraced data science\" in past 4 years #Str\u2026"
       ]
      },
      {
       "output_type": "stream",
       "stream": "stdout",
       "text": [
        "\n",
        "\"Data-driven president\" @dpatil @BarackObama #StrataHadoop http://t.co/dP4XjUMUBb"
       ]
      },
      {
       "output_type": "stream",
       "stream": "stdout",
       "text": [
        "\n",
        ".@strataconf \"Data science as sexiest job of 21st century\" &amp; data-driven Presidency. http://t.co/jphuyOipoe http://t.co/QvjWdkFEZM"
       ]
      },
      {
       "output_type": "stream",
       "stream": "stdout",
       "text": [
        "\n",
        "Obama welcomes @dpatil to the White House as the first Chief Data Scientist and to @strataconf's main stage! http://t.co/gttvzTNayy\n",
        "RT @jbenno: \"@BarackObama is the first data driven president; he looks on data dashbords every day.\" @dpatil #StrataHadoop"
       ]
      },
      {
       "output_type": "stream",
       "stream": "stdout",
       "text": [
        "\n",
        "#DJPatil US first Chief Data Scientist takes the stage @strataconf #StrataHadoop http://t.co/J4FmwGdLWU"
       ]
      },
      {
       "output_type": "stream",
       "stream": "stdout",
       "text": [
        "\n",
        "RT @kdnuggets: #StrataHadoop DJ @dpatil: @BarackObama is the most data-driven president we ever had"
       ]
      },
      {
       "output_type": "stream",
       "stream": "stdout",
       "text": [
        "\n",
        "@dpatil @strataconf nice mention of #data @NWS #weather"
       ]
      },
      {
       "output_type": "stream",
       "stream": "stdout",
       "text": [
        "\n",
        "RT @kocolosk: Go @GetdashDB MT @ScottIntel: This thing is state of the art, delivered as a fully managed #cloudservice\u201c - @kocolosk @IBM @s\u2026"
       ]
      },
      {
       "output_type": "stream",
       "stream": "stdout",
       "text": [
        "\n",
        "RT @furukama: \"Data Science is a team sport\" - POTUS citing @dpatil in his address to the data science community #StrataHadoop http://t.co/\u2026"
       ]
      },
      {
       "output_type": "stream",
       "stream": "stdout",
       "text": [
        "\n",
        "RT @ScottIntel: #Obama and @dpatil say... \"#datascience is a team sport!\" #datascienctist @strataconf #StrataHadoop http://t.co/Uzbx6SAswk"
       ]
      },
      {
       "output_type": "stream",
       "stream": "stdout",
       "text": [
        "\n",
        "@strataconf @dpatil  http://t.co/DTTvzTzQOU has 135K files available for download for #datascientist"
       ]
      },
      {
       "output_type": "stream",
       "stream": "stdout",
       "text": [
        "\n",
        "'Half of the jokes my staff came up with are below average' - @BarackObama introducing @dpatil and talking Data Science at #strataconf"
       ]
      },
      {
       "output_type": "stream",
       "stream": "stdout",
       "text": [
        "\n",
        "BO introduces DJ Patil as new Chief Data Scientist @WhiteHouse at #StrataHadoop - @dpatil \"most #datadriven POTUS\" http://t.co/SbyS7Eq5A2"
       ]
      },
      {
       "output_type": "stream",
       "stream": "stdout",
       "text": [
        "\n",
        "http://t.co/lU8FhVwvOQ hosts over 135000 data sets! #strataconf #MostDataDrivenPresident #Obama"
       ]
      },
      {
       "output_type": "stream",
       "stream": "stdout",
       "text": [
        "\n",
        "RT @ventanaresearch: Get truth &amp; perspective on #BigData integration from our Chief Research Officer @marksmithvr http://t.co/zry8XBLbTH #S\u2026"
       ]
      },
      {
       "output_type": "stream",
       "stream": "stdout",
       "text": [
        "\n",
        "RT @ReneeYao1: \"#Data science is a team work! Help us unleash new #innovation.\" @BarackObama #StrataHadoop keynote. #bigdata http://t.co/C1\u2026"
       ]
      },
      {
       "output_type": "stream",
       "stream": "stdout",
       "text": [
        "\n",
        "@dpatil at #StrataHadoop : http://t.co/xG5XO4sdaK is the place to go to play with data and learn to become a data scientist"
       ]
      },
      {
       "output_type": "stream",
       "stream": "stdout",
       "text": [
        "\n",
        ".@dpatil says our government has embraced data science #StrataHadoop"
       ]
      },
      {
       "output_type": "stream",
       "stream": "stdout",
       "text": [
        "\n",
        "RT @DominoDataLab: #strataconf peeps Stop by booth P8, say Hi &amp; pick up $50 of free compute time on Domino #datascience #StrataHadoop http:\u2026"
       ]
      },
      {
       "output_type": "stream",
       "stream": "stdout",
       "text": [
        "\n",
        "RT @MichaelRFerrari: .@dpatil Up now @strataconf #StrataHadoop #strataconf #weather #DataScience http://t.co/aBonlHLkWP http://t.co/bUoVXJ2\u2026"
       ]
      },
      {
       "output_type": "stream",
       "stream": "stdout",
       "text": [
        "\n",
        "RT @_djcr: @BarackObama announces @dpatil as the first U.S. Chief Data Scientist #strataconf #StrataHadoop #datascience http://t.co/oaLujbn\u2026"
       ]
      },
      {
       "output_type": "stream",
       "stream": "stdout",
       "text": [
        "\n",
        "RT @ASvanevik: Obama introducing DJ Patil at @strataconf #datascience #datadrivenpresident http://t.co/lZ2ri6JmcQ"
       ]
      },
      {
       "output_type": "stream",
       "stream": "stdout",
       "text": [
        "\n",
        "RT @kbhmudge: data science for good has made its way to the White House. Go @dpatil @strataconf #StrataHadoop #intuitdata http://t.co/cAQ27\u2026"
       ]
      },
      {
       "output_type": "stream",
       "stream": "stdout",
       "text": [
        "\n",
        "RT @kdnuggets: #StrataHadoop Adam @kocolosk #IBM #Twitter alliance produces cleansed, curated, augmented data feed"
       ]
      },
      {
       "output_type": "stream",
       "stream": "stdout",
       "text": [
        "\n",
        "RT @kdnuggets: #StrataHadoop DJ @dpatil: @BarackObama is the most data-driven president we ever had"
       ]
      },
      {
       "output_type": "stream",
       "stream": "stdout",
       "text": [
        "\n",
        "What if you turned all the data in a company into real-time streams? I'll give a talk on just that at 10:40 today http://t.co/cVzybwzecA"
       ]
      },
      {
       "output_type": "stream",
       "stream": "stdout",
       "text": [
        "\n",
        "RT @RobertsPaige: lol RT @oliverbrdiczka: Am I doing this #bigdata thing right? #StrataHadoop #strataconf http://t.co/JrFMAUY4XA"
       ]
      },
      {
       "output_type": "stream",
       "stream": "stdout",
       "text": [
        "\n",
        "RT @kestelyn: Holy crap. @BarackObama is \"here\" and just said \"data science.\" #StrataHadoop http://t.co/fXdGjlf2c5"
       ]
      },
      {
       "output_type": "stream",
       "stream": "stdout",
       "text": [
        "\n",
        "RT @ScottIntel: #Obama and @dpatil say... \"#datascience is a team sport!\" #datascienctist @strataconf #StrataHadoop http://t.co/qFABADM97L"
       ]
      },
      {
       "output_type": "stream",
       "stream": "stdout",
       "text": [
        "\n",
        "RT @dbstodder: Taking in keynotes #StrataHadoop after great mtgs yest w @platfora @Teradata @LookerData @mapr @hortonworks @SkytreeHQ @Pent\u2026"
       ]
      },
      {
       "output_type": "stream",
       "stream": "stdout",
       "text": [
        "\n",
        "RT @revodavid: Shout-out to Data Scientists from the president! #strataconf"
       ]
      },
      {
       "output_type": "stream",
       "stream": "stdout",
       "text": [
        "\n",
        "RT @oliverbrdiczka: Greetings from the president at #StrataHadoop #strataconf http://t.co/XoqUuKHVwo"
       ]
      },
      {
       "output_type": "stream",
       "stream": "stdout",
       "text": [
        "\n",
        "@WhiteHouse brings on the first Chief Data Scientist (Head #DataWrangler) @DPatil  for his #StrataHadoop keynote http://t.co/TtDiYRkhfi"
       ]
      },
      {
       "output_type": "stream",
       "stream": "stdout",
       "text": [
        "\n",
        "\"This is the most data driven president we've ever had.\" @dpatil on @BarackObama @strataconf #StrataHadoop http://t.co/mCzb3eoWlz"
       ]
      },
      {
       "output_type": "stream",
       "stream": "stdout",
       "text": [
        "\n",
        "A #StrataHadoop first -Presidential intro to a data keynote. Congrats @dpatil as our Chief Data Scientist! http://t.co/ILQR4gCKMD"
       ]
      },
      {
       "output_type": "stream",
       "stream": "stdout",
       "text": [
        "\n",
        "\"@BarackObama is the the most data-driven President we've ever had\"- @dpatil at #StrataHadoop http://t.co/2dOCw4Dv4u http://t.co/gGU0XMXSjB"
       ]
      },
      {
       "output_type": "stream",
       "stream": "stdout",
       "text": [
        "\n",
        "@dpatil recaps the last 4 years of #strataconf journey #StrataHadoop http://t.co/cXHoVcq4sa"
       ]
      },
      {
       "output_type": "stream",
       "stream": "stdout",
       "text": [
        "\n",
        "#djpatil declares President @BarackObama the most data-driven president, creating http://t.co/MnBPobHVGO &amp; fed lvl dashboards #StrataHadoop"
       ]
      },
      {
       "output_type": "stream",
       "stream": "stdout",
       "text": [
        "\n",
        "@strataconf @BarackObama just introduced and said \"as DJ would say, Data Science is a team sport \" @dpatil"
       ]
      },
      {
       "output_type": "stream",
       "stream": "stdout",
       "text": [
        "\n",
        "\"Normally I'd open with a joke about data science, but all my ideas were below average\" -- @BarackObama \n",
        " #StrataHadoop"
       ]
      },
      {
       "output_type": "stream",
       "stream": "stdout",
       "text": [
        "\n",
        ".@WhiteHouse brings on the first Chief Data Scientist (Head #DataWrangler) @DPatil  for his #StrataHadoop keynote http://t.co/TtDiYRkhfi"
       ]
      },
      {
       "output_type": "stream",
       "stream": "stdout",
       "text": [
        "\n",
        "\"Open and machine-readable data is the new default for the government\" &lt;- I wish Germany would copy this approach #StrataHadoop"
       ]
      },
      {
       "output_type": "stream",
       "stream": "stdout",
       "text": [
        "\n",
        "RT @profjsb: Surprise message from Obama here at #strataconf introducing @dpatil, imploring us to do #datascience http://t.co/dvonW4Dj3F"
       ]
      },
      {
       "output_type": "stream",
       "stream": "stdout",
       "text": [
        "\n",
        "RT @jonb_snowflake: @SnowflakeDB session at #strataconf with Kixeye coming up tomorrow. http://t.co/H2c2GGKnOP"
       ]
      },
      {
       "output_type": "stream",
       "stream": "stdout",
       "text": [
        "\n",
        "135,000 data sets are hosted on http://t.co/b5R11qgtTW #StrataHadoop #strataconf"
       ]
      },
      {
       "output_type": "stream",
       "stream": "stdout",
       "text": [
        "\n",
        ".@dpatil on how @BarackObama @WhiteHouse is the most #datadriven president to date http://t.co/kkSPqi9lFe"
       ]
      },
      {
       "output_type": "stream",
       "stream": "stdout",
       "text": [
        "\n",
        "Watch @jhingran talk about Building Adaptive Apps with APIs and Data at @strataconf today at 2:20pm PT."
       ]
      },
      {
       "output_type": "stream",
       "stream": "stdout",
       "text": [
        "\n",
        "\"@Azure: RT @InformaticaCorp: Making Data Work for Everyone with #Cloud http://t.co/6tzRj2c4Q4 #strataconf http://t.co/yuyDjj7rJc #Azure\""
       ]
      },
      {
       "output_type": "stream",
       "stream": "stdout",
       "text": [
        "\n",
        "RT @kestelyn: Holy crap. @BarackObama is \"here\" and just said \"data science.\" #StrataHadoop http://t.co/fXdGjlf2c5"
       ]
      },
      {
       "output_type": "stream",
       "stream": "stdout",
       "text": [
        "\n",
        "RT @digiphile: \"Hi everybody: normally I'd begin my remarks with a joke about data science\"-@BarackObama http://t.co/4nNnbQOw0d #StrataConf"
       ]
      },
      {
       "output_type": "stream",
       "stream": "stdout",
       "text": [
        "\n",
        "RT @mapr: Barack Obama asking #StrataHadoop to innovate and create progress for all of us! http://t.co/HOAilGYQ9W\n",
        ".@dpatil: by executive order, all US govt data is open and machine readable by default #StrataHadoop"
       ]
      },
      {
       "output_type": "stream",
       "stream": "stdout",
       "text": [
        "\n",
        "RT @jbenno: \"@BarackObama is the first data driven president; he looks on data dashbords every day.\" @dpatil #StrataHadoop"
       ]
      },
      {
       "output_type": "stream",
       "stream": "stdout",
       "text": [
        "\n",
        ":)\n",
        "RT @jbenno: \"@BarackObama is the first data driven president; he looks on data dashbords every day.\" @dpatil # StrataHadoop"
       ]
      },
      {
       "output_type": "stream",
       "stream": "stdout",
       "text": [
        "\n",
        "Executive order to ensure that open an machine readable data is the new default for the  US govt  #strataconf @dpatil http://t.co/spGZlg5Gr3"
       ]
      },
      {
       "output_type": "stream",
       "stream": "stdout",
       "text": [
        "\n",
        "RT @strataconf: Happening NOW at #StrataHadoop: @BarackObama announcing @dpatil of @WhiteHouse http://t.co/NIfLBopx2G"
       ]
      },
      {
       "output_type": "stream",
       "stream": "stdout",
       "text": [
        "\n",
        "RT @dpatil: Hey data scientists. I've got a special message for you coming up. Tune in here: http://t.co/qJMwwHJK1T"
       ]
      },
      {
       "output_type": "stream",
       "stream": "stdout",
       "text": [
        "\n",
        "RT @cloudera: Get your signed copy of @hadooparchbook at the @Cloudera booth #StrataHadoop SJ *while supplies last 11:30AM Feb19"
       ]
      },
      {
       "output_type": "stream",
       "stream": "stdout",
       "text": [
        "\n",
        "RT @prabath: Obama is the most data driven president America ever had #strataconf"
       ]
      },
      {
       "output_type": "stream",
       "stream": "stdout",
       "text": [
        "\n",
        "#strataconf #BarackObama the most data driven us president, #data.gov  and the #bigdatareport"
       ]
      },
      {
       "output_type": "stream",
       "stream": "stdout",
       "text": [
        "\n",
        "RT @chrisalbon: @DCVC @strataconf @astrobiased @mrogati Done!"
       ]
      },
      {
       "output_type": "stream",
       "stream": "stdout",
       "text": [
        "\n",
        "The most data driven president. Best example of why executive buy in is a must for #BigData success. #StrataHadoop via @dpatil"
       ]
      },
      {
       "output_type": "stream",
       "stream": "stdout",
       "text": [
        "\n",
        "RT @kathykmy: \"@BarackObama is the the most data-driven President we've ever had\"- @dpatil at #StrataHadoop http://t.co/2dOCw4Dv4u http://t\u2026"
       ]
      },
      {
       "output_type": "stream",
       "stream": "stdout",
       "text": [
        "\n",
        "DJ Patil: bringing  #datascience and #bioinformatics together to improve #healthcare #StrataHadoop @dpatil"
       ]
      },
      {
       "output_type": "stream",
       "stream": "stdout",
       "text": [
        "\n",
        "@dpatil saying this is the most data-driven President we've ever had at @strataconf #opendata #opengov #datascience"
       ]
      },
      {
       "output_type": "stream",
       "stream": "stdout",
       "text": [
        "\n",
        "RT @asdaraujo: \"Data-driven president\" @dpatil @BarackObama #StrataHadoop http://t.co/dP4XjUMUBb"
       ]
      },
      {
       "output_type": "stream",
       "stream": "stdout",
       "text": [
        "\n",
        "@dpatil \"this is the most data driven President we've ever had\" #strataconf http://t.co/cfjTnPi6eZ"
       ]
      },
      {
       "output_type": "stream",
       "stream": "stdout",
       "text": [
        "\n",
        "The Cray team is at #StrataHadoop this week! Visit us at booth 1424 to learn more about our #bigdata solutions. http://t.co/bb0fwvxgfZ"
       ]
      },
      {
       "output_type": "stream",
       "stream": "stdout",
       "text": [
        "\n",
        "RT @caldwellw: Keynote mentioned @urbanairship pushes 180B text messages a month. Wow!  Realtime Hadoop is here to stay. #StrataHadoop @ISS\u2026\n",
        "\"Half the data science jokes my staff came up with were below average.\" @BarackObama at @strataconf http://t.co/Imoxfofg3g"
       ]
      },
      {
       "output_type": "stream",
       "stream": "stdout",
       "text": [
        "\n",
        "RT @kestelyn: .@dpatil: by executive order, all US govt data is open and machine readable by default #StrataHadoop"
       ]
      },
      {
       "output_type": "stream",
       "stream": "stdout",
       "text": [
        "\n",
        "RT @ftgfop1: The #StrataConf journey so far. #StrataHadoop http://t.co/A66uM8vFbV"
       ]
      },
      {
       "output_type": "stream",
       "stream": "stdout",
       "text": [
        "\n",
        ".@dpatil suggests checking out the #bigdata report for some great nuggets and assessment! #StrataHadoop http://t.co/G4PWl59AKc"
       ]
      },
      {
       "output_type": "stream",
       "stream": "stdout",
       "text": [
        "\n",
        "RT @strataconf: .@dpatil on how @BarackObama @WhiteHouse is the most #datadriven president to date http://t.co/kkSPqi9lFe"
       ]
      },
      {
       "output_type": "stream",
       "stream": "stdout",
       "text": [
        "\n",
        "RT @kdnuggets: #StrataHadoop DJ @dpatil: @BarackObama is the most data-driven president we ever had"
       ]
      },
      {
       "output_type": "stream",
       "stream": "stdout",
       "text": [
        "\n",
        "RT @oneeleven_111: Check out @StrataConf keynote live streams. See how Big Data changes everything: http://t.co/A4j0QLsDcT"
       ]
      },
      {
       "output_type": "stream",
       "stream": "stdout",
       "text": [
        "\n",
        "Message from President Obama introducing @dpatil at #StrataHadoop in San Jose http://t.co/FSomSbSNJn"
       ]
      },
      {
       "output_type": "stream",
       "stream": "stdout",
       "text": [
        "\n",
        "RT @dmilad: @BarackObama introducing @dpatil at @strataconf #StrataHadoop #inspiring http://t.co/8D1NYPj2od"
       ]
      },
      {
       "output_type": "stream",
       "stream": "stdout",
       "text": [
        "\n",
        "RT @kdnuggets: #StrataHadoop DJ @dpatil: @BarackObama is the most data-driven president we ever had"
       ]
      },
      {
       "output_type": "stream",
       "stream": "stdout",
       "text": [
        "\n",
        "http://t.co/TiF3cBpfly @dpatil gets a hard to beat intro for his @strataconf keynote:-) http://t.co/Hb1gvXlhtx\n",
        ".@strataconf on 135,000 http://t.co/UN9yNQGxoJ data sets, ethics and privacy protection. #DataDriven culture http://t.co/MuhSBRD4nL"
       ]
      },
      {
       "output_type": "stream",
       "stream": "stdout",
       "text": [
        "\n",
        "RT @mphnyc: Some serious back &amp; forth between #Hadoop distros - competition heating up at #StrataHadoop keynote main stage! http://t.co/FC6\u2026"
       ]
      },
      {
       "output_type": "stream",
       "stream": "stdout",
       "text": [
        "\n",
        "RT @cloudant: If @kocolosk's #StrataHadoop keynote piqued your interest, stop by booth 1115 to hear more about @IBMbigdata, @GetdashDB &amp; #C\u2026"
       ]
      },
      {
       "output_type": "stream",
       "stream": "stdout",
       "text": [
        "\n",
        "RT @trifacta: .@WhiteHouse brings on the first Chief Data Scientist (Head #DataWrangler) @DPatil  for his #StrataHadoop keynote http://t.co\u2026"
       ]
      },
      {
       "output_type": "stream",
       "stream": "stdout",
       "text": [
        "\n",
        "RT @mapr: Barack Obama asking #StrataHadoop to innovate and create progress for all of us! http://t.co/HOAilGYQ9W"
       ]
      },
      {
       "output_type": "stream",
       "stream": "stdout",
       "text": [
        "\n",
        "RT @profjsb: Surprise message from Obama here at #strataconf introducing @dpatil, imploring us to do #datascience http://t.co/dvonW4Dj3F"
       ]
      },
      {
       "output_type": "stream",
       "stream": "stdout",
       "text": [
        "\n",
        "RT @IBMbigdata: \"It's not about the data, it's about what you do with the data that matters.\" - @Kocolosk #strataconf #hadoopnext"
       ]
      },
      {
       "output_type": "stream",
       "stream": "stdout",
       "text": [
        "\n",
        "@tspyz hanging out at the booth before his interview! #StrataHadoop #strataconf http://t.co/txGgIQ98bD"
       ]
      },
      {
       "output_type": "stream",
       "stream": "stdout",
       "text": [
        "\n",
        "RT @Oracle: Today at #StrataHadoop @Oracle Advances Vision for Enterprise #BigData: http://t.co/MsFqGJejCb"
       ]
      },
      {
       "output_type": "stream",
       "stream": "stdout",
       "text": [
        "\n",
        "RT @DominoDataLab: #strataconf peeps Stop by booth P8, say Hi &amp; pick up $50 of free compute time on Domino #datascience #StrataHadoop http:\u2026"
       ]
      },
      {
       "output_type": "stream",
       "stream": "stdout",
       "text": [
        "\n",
        "RT @jimwhelehan: #StrataHadoop: Interested in monetizing #bigdata? Check out @infobldrs\u2019 Rado Kotorov\u2019s session today at 4:50pm. http://t.c\u2026"
       ]
      },
      {
       "output_type": "stream",
       "stream": "stdout",
       "text": [
        "\n",
        "@dpatil pitching for #OpenData. All data to be machine readable on http://t.co/KPdftPRg6C &lt; yes! #StrataHadoop #LinkedData #SemanticWeb"
       ]
      },
      {
       "output_type": "stream",
       "stream": "stdout",
       "text": [
        "\n",
        "It's a \"massive change\" that http://t.co/YMCegCYEWc data is machine readable says new Chief Data Scientist Dr. DJ Patil #strataconf"
       ]
      },
      {
       "output_type": "stream",
       "stream": "stdout",
       "text": [
        "\n",
        "RT @berksbess: #djpatil declares President @BarackObama the most data-driven president, creating http://t.co/MnBPobHVGO &amp; fed lvl dashboard\u2026"
       ]
      },
      {
       "output_type": "stream",
       "stream": "stdout",
       "text": [
        "\n",
        "RT @mapr: Barack Obama asking #StrataHadoop to innovate and create progress for all of us! http://t.co/HOAilGYQ9W"
       ]
      },
      {
       "output_type": "stream",
       "stream": "stdout",
       "text": [
        "\n",
        "RT @TimIntel: .@dpatil suggests checking out the #bigdata report for some great nuggets and assessment! #StrataHadoop http://t.co/G4PWl59AKc"
       ]
      },
      {
       "output_type": "stream",
       "stream": "stdout",
       "text": [
        "\n",
        "List of ways the US Gov't is data driven #StrataHadoop http://t.co/gmHQzYrtoY"
       ]
      },
      {
       "output_type": "stream",
       "stream": "stdout",
       "text": [
        "\n",
        "Oracle #BigData Discovery &amp; GoldenGate for Big Data Make Enterprise Big Data a Team Sport #stratahadoop via @dbtrends http://t.co/pRIryYS7UT"
       ]
      },
      {
       "output_type": "stream",
       "stream": "stdout",
       "text": [
        "\n",
        "RT @ginablaber: Check out livestream keynotes now at #StrataHadoop w/ US Chief Data Scientist @dpatil, @awadallah, Lisa Hammitt of @salesfo\u2026"
       ]
      },
      {
       "output_type": "stream",
       "stream": "stdout",
       "text": [
        "\n",
        ".@BarackObama thank you for being the first data driven president, ever. @dpatil #HadoopNext #strataconf http://t.co/PLg202xvpe"
       ]
      },
      {
       "output_type": "stream",
       "stream": "stdout",
       "text": [
        "\n",
        "Departments of the US Govt are more data-driven than most companies right now. -@dpatil #StrataHadoop"
       ]
      },
      {
       "output_type": "stream",
       "stream": "stdout",
       "text": [
        "\n",
        "DJ Patil: http://t.co/cxsq06YuNG hosts 135,000 data sets from US Govt #StrataHadoop #strataconf"
       ]
      },
      {
       "output_type": "stream",
       "stream": "stdout",
       "text": [
        "\n",
        "Driving #data accessibility &amp; #innovation from the top down @dpatil @BarackObama @strataconf #StrataHadoop http://t.co/d1JWnHQ7Tn"
       ]
      },
      {
       "output_type": "stream",
       "stream": "stdout",
       "text": [
        "\n",
        "RT @nmadhu2k3: The most data driven president. Best example of why executive buy in is a must for #BigData success. #StrataHadoop via @dpat\u2026"
       ]
      },
      {
       "output_type": "stream",
       "stream": "stdout",
       "text": [
        "\n",
        "RT @dpatil: Hey data scientists. I've got a special message for you coming up. Tune in here: http://t.co/qJMwwHJK1T"
       ]
      },
      {
       "output_type": "stream",
       "stream": "stdout",
       "text": [
        "\n",
        "RT @Azure: RT @InformaticaCorp: Making Data Work for Everyone with #Cloud http://t.co/yDslzEzFYQ #strataconf http://t.co/W63Syvuonk #Azure"
       ]
      },
      {
       "output_type": "stream",
       "stream": "stdout",
       "text": [
        "\n",
        "#StrataHadoop Shock! US government is more data driven than ever. Data power to help America! @dpatil @strataconf http://t.co/BqdGpX7dgf"
       ]
      },
      {
       "output_type": "stream",
       "stream": "stdout",
       "text": [
        "\n",
        "RT @Oracle: Today at #StrataHadoop @Oracle Advances Vision for Enterprise #BigData: http://t.co/MsFqGJejCb"
       ]
      },
      {
       "output_type": "stream",
       "stream": "stdout",
       "text": [
        "\n",
        "RT @kathykmy: \"@BarackObama is the the most data-driven President we've ever had\"- @dpatil at #StrataHadoop http://t.co/2dOCw4Dv4u http://t\u2026"
       ]
      },
      {
       "output_type": "stream",
       "stream": "stdout",
       "text": [
        "\n",
        "Prepare, integrate &amp; cleanse data faster &amp; easier w/ our newest product! SAS Data Loader for #Hadoop http://t.co/iuFvZDwuuE #StrataHadoop"
       ]
      },
      {
       "output_type": "stream",
       "stream": "stdout",
       "text": [
        "\n",
        "Data science is a team sport... @BarackObama intros @dpatil at #strataconf #StrataHadoop #Hadoop #bigdata http://t.co/55AgNX1aLS"
       ]
      },
      {
       "output_type": "stream",
       "stream": "stdout",
       "text": [
        "\n",
        "@dpatil brought a message from the President to data scientists at #strataconf. Very cool! http://t.co/0obT3mzDjY"
       ]
      },
      {
       "output_type": "stream",
       "stream": "stdout",
       "text": [
        "\n",
        "RT @ginablaber: Check out livestream keynotes now at #StrataHadoop w/ US Chief Data Scientist @dpatil, @awadallah, Lisa Hammitt of @salesfo\u2026"
       ]
      },
      {
       "output_type": "stream",
       "stream": "stdout",
       "text": [
        "\n",
        "Without open data I wouldn't have got started - @dpatil #StrataHadoop #opendata"
       ]
      },
      {
       "output_type": "stream",
       "stream": "stdout",
       "text": [
        "\n",
        "Most data driven @whitehouse @BarackObama via @dpatil new @UCDS chief data scientist #StrataHadoop http://t.co/fwdUMfWeBi"
       ]
      },
      {
       "output_type": "stream",
       "stream": "stdout",
       "text": [
        "\n",
        "Obama introduces DJ Patil at #StrataConf #ChiefDataScientist http://t.co/Jw9aGCKdTC"
       ]
      },
      {
       "output_type": "stream",
       "stream": "stdout",
       "text": [
        "\n",
        "CDS/CDO is the new C-level role to watch out for! According to @dpatil at #StrataHadoop. Use the force wisely, I would say\u2026\n",
        "\"They're more #DataDriven than most companies are!\" - @dpatil @strataconf #ChiefDataScientist #StrataHadoop http://t.co/SxHWQimCSy"
       ]
      },
      {
       "output_type": "stream",
       "stream": "stdout",
       "text": [
        "\n",
        "RT @kdnuggets: #StrataHadoop Wow @BarackObama introduces DJ @dpatil (now 1st US Chief Data Scientist) - calls for Data Scientists to build \u2026"
       ]
      },
      {
       "output_type": "stream",
       "stream": "stdout",
       "text": [
        "\n",
        "@BarackObama is most #DataDriven #US #President - Says @dpatil, first #government chief #DataScientist #StrataHadoop"
       ]
      },
      {
       "output_type": "stream",
       "stream": "stdout",
       "text": [
        "\n",
        "RT @cloudant: If @kocolosk's #StrataHadoop keynote piqued your interest, stop by booth 1115 to hear more about @IBMbigdata, @GetdashDB &amp; #C\u2026"
       ]
      },
      {
       "output_type": "stream",
       "stream": "stdout",
       "text": [
        "\n",
        "Liking the focus on public benefit and return on investment in data for the Chief Data Scientist #strataconf"
       ]
      },
      {
       "output_type": "stream",
       "stream": "stdout",
       "text": [
        "\n",
        "@chanezon @dpatil @strataconf Congrats DJ! This is great for #datascience"
       ]
      },
      {
       "output_type": "stream",
       "stream": "stdout",
       "text": [
        "\n",
        "RT @drelu: Obama introducing @dpatil - the first US Chief Data Scientist - at #stratahadoop http://t.co/qzpribDPxY"
       ]
      },
      {
       "output_type": "stream",
       "stream": "stdout",
       "text": [
        "\n",
        "Over 135,000 datasets publicly available from http://t.co/gmEMvouyNM for analysis. Wow! #strataconf #StrataHadoop"
       ]
      },
      {
       "output_type": "stream",
       "stream": "stdout",
       "text": [
        "\n",
        "RT @jedberg: \"Half the data science jokes my staff came up with were below average.\" @BarackObama at @strataconf http://t.co/Imoxfofg3g\n",
        "RT @JenMcGinnChi: Data science is a team sport - @ThePresObama #stratahadoop IBM agrees!  http://t.co/3EP02wT4ym #hadoopnext"
       ]
      },
      {
       "output_type": "stream",
       "stream": "stdout",
       "text": [
        "\n",
        "\"Maximize the taxpayer's return of investment from government data\" @dpatil on the US government's mission in data science. #StrataHadoop"
       ]
      },
      {
       "output_type": "stream",
       "stream": "stdout",
       "text": [
        "\n",
        "RT @JenMcGinnChi: Use Twitter data to open your view of the world #strataconf #HadoopNext @kocolosk http://t.co/7PmviDyEKE"
       ]
      },
      {
       "output_type": "stream",
       "stream": "stdout",
       "text": [
        "\n",
        "RT @JSHorwitz: .@BarackObama thank you for being the first data driven president, ever. @dpatil #HadoopNext #strataconf http://t.co/PLg202x\u2026"
       ]
      },
      {
       "output_type": "stream",
       "stream": "stdout",
       "text": [
        "\n",
        "RT @DisneyInterns: Learn from industry leaders as a ABC - Data Engineering #Intern http://t.co/VsJbwgujKn @ejsander #StrataHadoop"
       ]
      },
      {
       "output_type": "stream",
       "stream": "stdout",
       "text": [
        "\n",
        "RT @ClouderaEvents: Now on stage @dpatil talking about data science and government &amp; oh yeah, @BarackObama introduced him! #StrataHadoop"
       ]
      },
      {
       "output_type": "stream",
       "stream": "stdout",
       "text": [
        "\n",
        "Watching NOW--@dpatil keynote at #StrataHadoop about his new job as 1st Chief Data Scientist of the US: http://t.co/nUXk3Jywjs"
       ]
      },
      {
       "output_type": "stream",
       "stream": "stdout",
       "text": [
        "\n",
        "RT @Wikibon: Replays from Day 1 #BigDataSV incl VC panel, Follow the Money keynote &amp; interviews http://t.co/66T2NlHP6r\n",
        "#StrataHadoop #strat\u2026"
       ]
      },
      {
       "output_type": "stream",
       "stream": "stdout",
       "text": [
        "\n",
        "RT @Cascadia: Most data driven @whitehouse @BarackObama via @dpatil new @UCDS chief data scientist #StrataHadoop http://t.co/fwdUMfWeBi"
       ]
      },
      {
       "output_type": "stream",
       "stream": "stdout",
       "text": [
        "\n",
        "RT @mapr: Barack Obama asking #StrataHadoop to innovate and create progress for all of us! http://t.co/HOAilGYQ9W"
       ]
      },
      {
       "output_type": "stream",
       "stream": "stdout",
       "text": [
        "\n",
        "RT @PrabhaGana: \"They're more #DataDriven than most companies are!\" - @dpatil @strataconf #ChiefDataScientist #StrataHadoop http://t.co/SxH\u2026"
       ]
      },
      {
       "output_type": "stream",
       "stream": "stdout",
       "text": [
        "\n",
        "Just happened in #stratahadoop: \"@barackobama announcing, driven president\" (43 tweets): http://t.co/XYQwo7UQaZ"
       ]
      },
      {
       "output_type": "stream",
       "stream": "stdout",
       "text": [
        "\n",
        "@dpatil \"This is the most data driven POTUS ever\" #StrataHadoop http://t.co/qsOQmZAAbF"
       ]
      },
      {
       "output_type": "stream",
       "stream": "stdout",
       "text": [
        "\n",
        "DJ Patil #ChiefDataScientist at #strataconf #Strata2015 http://t.co/I8R85ZP0h9"
       ]
      },
      {
       "output_type": "stream",
       "stream": "stdout",
       "text": [
        "\n",
        "RT @Cascadia: Most data driven @whitehouse @BarackObama via @dpatil new @UCDS chief data scientist #StrataHadoop http://t.co/fwdUMfWeBi"
       ]
      },
      {
       "output_type": "stream",
       "stream": "stdout",
       "text": [
        "\n",
        "Excited to see #Obama announcing @dpatil as the first Chief Data Scientist. #StrataConf #bigdata #datascience #hype http://t.co/Ox2coHpOLV"
       ]
      },
      {
       "output_type": "stream",
       "stream": "stdout",
       "text": [
        "\n",
        "@BarackObama first data-driven POTUS. He looks at dashboards every day, sees data science as team sport. @dpatil #StrataHadoop"
       ]
      },
      {
       "output_type": "stream",
       "stream": "stdout",
       "text": [
        "\n",
        "join HP Scality for #bigdata chat on Infra at scale cc #strataconf folks http://t.co/gitKXKythA #RealDataStories\n",
        "RT @jaykreps: What if you turned all the data in a company into real-time streams? I'll give a talk on just that at 10:40 today http://t.co\u2026"
       ]
      },
      {
       "output_type": "stream",
       "stream": "stdout",
       "text": [
        "\n",
        "Until we fix the poor data quality and organization problems, your \"data scientists\" are really just an analysts. #StrataHadoop"
       ]
      },
      {
       "output_type": "stream",
       "stream": "stdout",
       "text": [
        "\n",
        "#StrataHadoop \u9023\u90a6\u653f\u5e9c\u306e\u30c1\u30fc\u30d5\u30fb\u30c7\u30fc\u30bf\u30b5\u30a4\u30a8\u30f3\u30c6\u30a3\u30b9\u30c8\u306bDJ Patil\u3055\u3093\u3092\u4efb\u547d\u3067\u3059\u304b\u3002\u7c73\u56fd\u306f\u9032\u3093\u3067\u308b\u308f\u3002"
       ]
      },
      {
       "output_type": "stream",
       "stream": "stdout",
       "text": [
        "\n",
        "RT @Cascadia: Most data driven @whitehouse @BarackObama via @dpatil new @UCDS chief data scientist #StrataHadoop http://t.co/fwdUMfWeBi"
       ]
      },
      {
       "output_type": "stream",
       "stream": "stdout",
       "text": [
        "\n",
        "RT @kdnuggets: #StrataHadoop DJ @dpatil: @BarackObama is the most data-driven president we ever had"
       ]
      },
      {
       "output_type": "stream",
       "stream": "stdout",
       "text": [
        "\n",
        "Great to see more!!RT @MCanalytics: #womenintech are rockin #strataconf @Bencheton @EllenFriedman http://t.co/MBu0GYQCUd"
       ]
      },
      {
       "output_type": "stream",
       "stream": "stdout",
       "text": [
        "\n",
        "RT @berksbess: Opening remarks from President @BarackObama before @djpatil takes the stage at #StrataHadoop http://t.co/RITZqFejfd"
       ]
      },
      {
       "output_type": "stream",
       "stream": "stdout",
       "text": [
        "\n",
        "Lots of talk about real time using Big Data at #strataconf.  @ajdobrien"
       ]
      },
      {
       "output_type": "stream",
       "stream": "stdout",
       "text": [
        "\n",
        "the data science agenda for the US government. @dpatil #StrataHadoop http://t.co/J1AV4NEJLk"
       ]
      },
      {
       "output_type": "stream",
       "stream": "stdout",
       "text": [
        "\n",
        "RT @carlotorniai: @BarackObama message at #strataconf \"Uncle Tom wants you #DataScientists\" http://t.co/UkErREehKz"
       ]
      },
      {
       "output_type": "stream",
       "stream": "stdout",
       "text": [
        "\n",
        "RT @skaiser: \"Normally I'd open with a joke about data science, but all my ideas were below average\" -- @BarackObama \n",
        " #StrataHadoop"
       ]
      },
      {
       "output_type": "stream",
       "stream": "stdout",
       "text": [
        "\n",
        "RT @SeenFeed: Just happened in #stratahadoop: \"flexibility scalability, keynote\" (41 tweets): http://t.co/KVGHfbDSLe"
       ]
      },
      {
       "output_type": "stream",
       "stream": "stdout",
       "text": [
        "\n",
        "RT @strataconf: .@dpatil on how @BarackObama @WhiteHouse is the most #datadriven president to date http://t.co/kkSPqi9lFe"
       ]
      },
      {
       "output_type": "stream",
       "stream": "stdout",
       "text": [
        "\n",
        "RT @furrier: join HP Scality for #bigdata chat on Infra at scale cc #strataconf folks http://t.co/gitKXKythA #RealDataStories"
       ]
      },
      {
       "output_type": "stream",
       "stream": "stdout",
       "text": [
        "\n",
        "@BarackObama \"most data-driven pres we have ever had\" DJ Patil ref first dashbrds at fed level, http://t.co/2HRSi6aio2, etc. #StrataHadoop"
       ]
      },
      {
       "output_type": "stream",
       "stream": "stdout",
       "text": [
        "\n",
        "RT @PrabhaGana: \"They're more #DataDriven than most companies are!\" - @dpatil @strataconf #ChiefDataScientist #StrataHadoop http://t.co/SxH\u2026"
       ]
      },
      {
       "output_type": "stream",
       "stream": "stdout",
       "text": [
        "\n",
        "RT @lizzadwoskin: President Obama is introducing new Chief Data Scientist @dpatil @strataconf .. http://t.co/ziq6RNQZ6U"
       ]
      },
      {
       "output_type": "stream",
       "stream": "stdout",
       "text": [
        "\n",
        "RT @nmadhu2k3: The most data driven president. Best example of why executive buy in is a must for #BigData success. #StrataHadoop via @dpat\u2026"
       ]
      },
      {
       "output_type": "stream",
       "stream": "stdout",
       "text": [
        "\n",
        "RT @Pentaho: Can't miss: Making Big Data Usable in Market Regulation today @ 4:50 #StrataHadoop http://t.co/X3icTtUCWq 30 billion events/da\u2026"
       ]
      },
      {
       "output_type": "stream",
       "stream": "stdout",
       "text": [
        "\n",
        ".@dpatil suggests checking out the #bigdata report for some great nuggets and assessment! #StrataHadoop http://t.co/QflumYHKZB via @TimIntel"
       ]
      },
      {
       "output_type": "stream",
       "stream": "stdout",
       "text": [
        "\n",
        "RT @Ellen_Friedman: MapR Hadoop distro: much more than just Hadoop. Real World Use Cases talk me, @ted_dunning #StrataHadoop 10:40am Thur h\u2026"
       ]
      },
      {
       "output_type": "stream",
       "stream": "stdout",
       "text": [
        "\n",
        "\"They're more data-driven than most companies, right now.\" @dpatil, new US Chief Data Scientist: http://t.co/jIdY9MM3dG #StrataHadoop"
       ]
      },
      {
       "output_type": "stream",
       "stream": "stdout",
       "text": [
        "\n",
        "RT @nalyticsatwork: @dpatil \"This is the most data driven POTUS ever\" #StrataHadoop http://t.co/qsOQmZAAbF"
       ]
      },
      {
       "output_type": "stream",
       "stream": "stdout",
       "text": [
        "\n",
        "Great to see the emphasis of US govt on data analytics into improving every walk of life #Obama #strataconf #StrataHadoop"
       ]
      },
      {
       "output_type": "stream",
       "stream": "stdout",
       "text": [
        "\n",
        "@dpatil saying US government is committed to sharing data on http://t.co/VgeSp1ERcI to better the world. #StrataHadoop @ISSNews"
       ]
      },
      {
       "output_type": "stream",
       "stream": "stdout",
       "text": [
        "\n",
        "RT @kdnuggets: #StrataHadoop Adam @kocolosk #IBM #Twitter alliance produces cleansed, curated, augmented data feed"
       ]
      },
      {
       "output_type": "stream",
       "stream": "stdout",
       "text": [
        "\n",
        "DJ Patil US chief data scientist at #strataconf after Pres Obama intro http://t.co/PGBFsv6lfg"
       ]
      },
      {
       "output_type": "stream",
       "stream": "stdout",
       "text": [
        "\n",
        "RT @peteskomoroch: Watching Obama introduce Chief Data Scientist of the United States @dpatil at #StrataHadoop http://t.co/4YnzZSnznn http:\u2026"
       ]
      },
      {
       "output_type": "stream",
       "stream": "stdout",
       "text": [
        "\n",
        "RT @caldwellw: @dpatil saying US government is committed to sharing data on http://t.co/VgeSp1ERcI to better the world. #StrataHadoop @ISSN\u2026"
       ]
      },
      {
       "output_type": "stream",
       "stream": "stdout",
       "text": [
        "\n",
        "@dpatil priorities will be precision medicine, building data products, responsible data policy #StrataHadoop\n",
        "RT @furrier: join HP Scality for #bigdata chat on Infra at scale cc #strataconf folks http://t.co/gitKXKythA #RealDataStories"
       ]
      },
      {
       "output_type": "stream",
       "stream": "stdout",
       "text": [
        "\n",
        "Forward thinking. #StrataHadoop http://t.co/xmP7e0dwtP"
       ]
      },
      {
       "output_type": "stream",
       "stream": "stdout",
       "text": [
        "\n",
        "RT @mapr: Barack Obama asking #StrataHadoop to innovate and create progress for all of us! http://t.co/HOAilGYQ9W"
       ]
      },
      {
       "output_type": "stream",
       "stream": "stdout",
       "text": [
        "\n",
        "RT @nmadhu2k3: The most data driven president. Best example of why executive buy in is a must for #BigData success. #StrataHadoop via @dpat\u2026"
       ]
      },
      {
       "output_type": "stream",
       "stream": "stdout",
       "text": [
        "\n",
        "The most data driven president. Best example of why executive buy in is a must for #BigData success. #StrataHadoop via @dpat\u2026"
       ]
      },
      {
       "output_type": "stream",
       "stream": "stdout",
       "text": [
        "\n",
        "RT @tresata: Tresata Announces First Profitable Year of Ops, Bolsters Early Bet on Biz Apps Powered by Hadoop: http://t.co/BV4sBVngAz #Stra\u2026"
       ]
      },
      {
       "output_type": "stream",
       "stream": "stdout",
       "text": [
        "\n",
        "At #StrataConf, @dpatil outlined the responsibilities of the 1st U.S. \"chief data scientist.\" http://t.co/VTxpvsuTpx"
       ]
      },
      {
       "output_type": "stream",
       "stream": "stdout",
       "text": [
        "\n",
        "RT @cloudant: If @kocolosk's #StrataHadoop keynote piqued your interest, stop by booth 1115 to hear more about @IBMbigdata, @GetdashDB &amp; #C\u2026"
       ]
      },
      {
       "output_type": "stream",
       "stream": "stdout",
       "text": [
        "\n",
        "RT @tonyshaw: @dpatil priorities will be precision medicine, building data products, responsible data policy #StrataHadoop"
       ]
      },
      {
       "output_type": "stream",
       "stream": "stdout",
       "text": [
        "\n",
        "@BarackObama is the most data driven president ... everr  #salute #respect #StrataHadoop http://t.co/YAqG1jwira"
       ]
      },
      {
       "output_type": "stream",
       "stream": "stdout",
       "text": [
        "\n",
        "RT @ReneeYao1: Looking forward to #unlockbigdata crowd chat today 3-4pm w/ @furrier https://t.co/AOa3jpLKgf @theCUBE #StrataHadoop http://t\u2026"
       ]
      },
      {
       "output_type": "stream",
       "stream": "stdout",
       "text": [
        "\n",
        "\"Lets start bringing the #datascience and the #bioinformatics together!\" @strataconf keynote #StrataHadoop"
       ]
      },
      {
       "output_type": "stream",
       "stream": "stdout",
       "text": [
        "\n",
        "Precision medicine and patient-powered research are top priorities for Chief Data Scientist @dpatil #StrataHadoop"
       ]
      },
      {
       "output_type": "stream",
       "stream": "stdout",
       "text": [
        "\n",
        "RT @AnalystArun: Surprise speaker at #StrataHadoop. @BarackObama introduces DJ Patil, White House's Data Scientist &amp; talks open data http:/\u2026"
       ]
      },
      {
       "output_type": "stream",
       "stream": "stdout",
       "text": [
        "\n",
        "#StrataHadoop DJ @dpatil: US Data Science Priorities: 1. Precision Medicine"
       ]
      },
      {
       "output_type": "stream",
       "stream": "stdout",
       "text": [
        "\n",
        "RT @IBMbigdata: Looking for more updates from #strataconf? Follow IBMers, @JenMcGinnChi &amp; @BethTSmith for live updates from the ground. #ha\u2026"
       ]
      },
      {
       "output_type": "stream",
       "stream": "stdout",
       "text": [
        "\n",
        "Wonder what the U.S. Chief Data Scientist does? @dpatil @strataconf #StrataHadoop http://t.co/rTySqMgYwn"
       ]
      },
      {
       "output_type": "stream",
       "stream": "stdout",
       "text": [
        "\n",
        "Awesome talk by @dpatil on the US gov open data initiatives - summoning a new age of data driven enlightenment #StrataHadoop"
       ]
      },
      {
       "output_type": "stream",
       "stream": "stdout",
       "text": [
        "\n",
        "RT @ftgfop1: It begins with an image. #StrataHadoop http://t.co/d8Ur1HOHCG"
       ]
      },
      {
       "output_type": "stream",
       "stream": "stdout",
       "text": [
        "\n",
        "RT @cray_inc: The Cray team is at #StrataHadoop this week! Visit us at booth 1424 to learn more about our #bigdata solutions. http://t.co/b\u2026"
       ]
      },
      {
       "output_type": "stream",
       "stream": "stdout",
       "text": [
        "\n",
        "A healthy eco-system is needed around http://t.co/Id0f09vNe0 #strataconf"
       ]
      },
      {
       "output_type": "stream",
       "stream": "stdout",
       "text": [
        "\n",
        "RT @_DataTsunami: .@dpatil suggests checking out the #bigdata report for some great nuggets and assessment! #StrataHadoop http://t.co/Qflum\u2026"
       ]
      },
      {
       "output_type": "stream",
       "stream": "stdout",
       "text": [
        "\n",
        "At Strata?  Check out FINRA's preso at 4:30. Streamlined Data Refinery utilizing Pentaho  http://t.co/Jej24xKyNS #strataconf"
       ]
      },
      {
       "output_type": "stream",
       "stream": "stdout",
       "text": [
        "\n",
        "RT @ivanh: Wonder what the U.S. Chief Data Scientist does? @dpatil @strataconf #StrataHadoop http://t.co/rTySqMgYwn"
       ]
      },
      {
       "output_type": "stream",
       "stream": "stdout",
       "text": [
        "\n",
        "RT @IBMbigdata: \"It's not about the data, it's about what you do with the data that matters.\" - @Kocolosk #strataconf #hadoopnext"
       ]
      },
      {
       "output_type": "stream",
       "stream": "stdout",
       "text": [
        "\n",
        "RT @ericries: Watch NOW--@dpatil keynote at #StrataHadoop about his new job as 1st Chief Data Scientist of the US: http://t.co/GHB1JfFNGq"
       ]
      },
      {
       "output_type": "stream",
       "stream": "stdout",
       "text": [
        "\n",
        "RT @ericries: Watch NOW--@dpatil keynote at #StrataHadoop about his new job as 1st Chief Data Scientist of the US: http://t.co/mXXLjQf5L4"
       ]
      },
      {
       "output_type": "stream",
       "stream": "stdout",
       "text": [
        "\n",
        "RT @BethTSmith: \"#IBM has been supporter of ASF since beginning\" @kocolosk #StrataConf"
       ]
      },
      {
       "output_type": "stream",
       "stream": "stdout",
       "text": [
        "\n",
        "RT @asdaraujo: \"Data-driven president\" @dpatil @BarackObama #StrataHadoop http://t.co/dP4XjUMUBb"
       ]
      },
      {
       "output_type": "stream",
       "stream": "stdout",
       "text": [
        "\n",
        "Priorities for Govt. in data science: precision medicine, build data products on http://t.co/Lljm5ZbNuX #strataconf"
       ]
      },
      {
       "output_type": "stream",
       "stream": "stdout",
       "text": [
        "\n",
        "#StrataHadoop keynote - govt #datascience success - responsibly gather process and release data to foster innovation"
       ]
      },
      {
       "output_type": "stream",
       "stream": "stdout",
       "text": [
        "\n",
        "RT @JenMcGinnChi: Use Twitter data to open your view of the world #strataconf #HadoopNext @kocolosk http://t.co/7PmviDyEKE"
       ]
      },
      {
       "output_type": "stream",
       "stream": "stdout",
       "text": [
        "\n",
        "#StrataHadoop DJ @dpatil: US Data Science Priorities: 2. Data Products"
       ]
      },
      {
       "output_type": "stream",
       "stream": "stdout",
       "text": [
        "\n",
        "RT @nmadhu2k3: The most data driven president. Best example of why executive buy in is a must for #BigData success. #StrataHadoop via @dpat\u2026"
       ]
      },
      {
       "output_type": "stream",
       "stream": "stdout",
       "text": [
        "\n",
        "RT @BethTSmith: From particle physics to #bigdata #StrataConf - @kocolosk"
       ]
      },
      {
       "output_type": "stream",
       "stream": "stdout",
       "text": [
        "\n",
        ".@strataconf on responsibilities &amp; priorities : social benefit, precision medicine. http://t.co/bnpapY8SLO"
       ]
      },
      {
       "output_type": "stream",
       "stream": "stdout",
       "text": [
        "\n",
        "DJ Patil talks on how government is equally clued into data science as much as corporations #strataconf #StrataHadoop"
       ]
      },
      {
       "output_type": "stream",
       "stream": "stdout",
       "text": [
        "\n",
        "RT @SASsoftware: Prepare, integrate &amp; cleanse data faster &amp; easier w/ our newest product! SAS Data Loader for #Hadoop http://t.co/iuFvZDwuu\u2026"
       ]
      },
      {
       "output_type": "stream",
       "stream": "stdout",
       "text": [
        "\n",
        "RT @mphnyc: @Cutting - The master and creator of #Hadoop http://t.co/n9iVGV1mvi http://t.co/ME7RzEm515 - now @Cloudera Tech Exec &amp; #StrataH\u2026"
       ]
      },
      {
       "output_type": "stream",
       "stream": "stdout",
       "text": [
        "\n",
        "RT @AnalystArun: Surprise speaker at #StrataHadoop. @BarackObama introduces DJ Patil, White House's Data Scientist &amp; talks open data http:/\u2026"
       ]
      },
      {
       "output_type": "stream",
       "stream": "stdout",
       "text": [
        "\n",
        "RT @IBMbigdata: Are you watching? @Kocolosk is talking about #IBMandTwitter at #StratConf keynote happening now: http://t.co/nCCPkoC2hA #ha\u2026"
       ]
      },
      {
       "output_type": "stream",
       "stream": "stdout",
       "text": [
        "\n",
        "RT @kestelyn: .@dpatil: by executive order, all US govt data is open and machine readable by default #StrataHadoop"
       ]
      },
      {
       "output_type": "stream",
       "stream": "stdout",
       "text": [
        "\n",
        "RT @jbenno: the data science agenda for the US government. @dpatil #StrataHadoop http://t.co/J1AV4NEJLk"
       ]
      },
      {
       "output_type": "stream",
       "stream": "stdout",
       "text": [
        "\n",
        "Yes! http://t.co/11NSLKaQ5s MT @TimIntel: @dpatil suggests checking out the #bigdata report for some great insights. #StrataHadoop #CIO"
       ]
      },
      {
       "output_type": "stream",
       "stream": "stdout",
       "text": [
        "\n",
        "RT @nmadhu2k3: The most data driven president. Best example of why executive buy in is a must for #BigData success. #StrataHadoop via @dpat\u2026"
       ]
      },
      {
       "output_type": "stream",
       "stream": "stdout",
       "text": [
        "\n",
        "Interesting gov view on data science by @dpatil at #strataconf #StrataHadoop"
       ]
      },
      {
       "output_type": "stream",
       "stream": "stdout",
       "text": [
        "\n",
        "RT @timoreilly: Live Stream for #StrataHadoop keynotes http://t.co/QVOWxZ4EQE"
       ]
      },
      {
       "output_type": "stream",
       "stream": "stdout",
       "text": [
        "\n",
        "@dpatil Precision medicine is first priority in data science for the White House @stratahadoop"
       ]
      },
      {
       "output_type": "stream",
       "stream": "stdout",
       "text": [
        "\n",
        "RT @mapr: Barack Obama asking #StrataHadoop to innovate and create progress for all of us! http://t.co/HOAilGYQ9W"
       ]
      },
      {
       "output_type": "stream",
       "stream": "stdout",
       "text": [
        "\n",
        "RT @peteskomoroch: Watching Obama introduce Chief Data Scientist of the United States @dpatil at #StrataHadoop http://t.co/4YnzZSnznn http:\u2026"
       ]
      },
      {
       "output_type": "stream",
       "stream": "stdout",
       "text": [
        "\n",
        "#StrataHadoop DJ @dpatil: US Data Science Priorities: 3. Responsible Data Science"
       ]
      },
      {
       "output_type": "stream",
       "stream": "stdout",
       "text": [
        "\n",
        "RT @lizzadwoskin: President Obama is introducing new Chief Data Scientist @dpatil @strataconf .. http://t.co/ziq6RNQZ6U"
       ]
      },
      {
       "output_type": "stream",
       "stream": "stdout",
       "text": [
        "\n",
        "A video intro of @dpatil by @BarackObama at @strataconf."
       ]
      },
      {
       "output_type": "stream",
       "stream": "stdout",
       "text": [
        "\n",
        "Check-out U.S. Digital Service http://t.co/7C1X7Jg8jI #strataconf"
       ]
      },
      {
       "output_type": "stream",
       "stream": "stdout",
       "text": [
        "\n",
        "RT @jbenno: Whoa, @BarackObama anounces @dpatil 's appointment to the US government. Impressive how far #StrataHadoop has evolved http://t.\u2026"
       ]
      },
      {
       "output_type": "stream",
       "stream": "stdout",
       "text": [
        "\n",
        "BREAKING: @dpatil calls data scientists for help: http://t.co/zf7UgB8k1t @strataconf #StrataHadoop"
       ]
      },
      {
       "output_type": "stream",
       "stream": "stdout",
       "text": [
        "\n",
        "RT @herdingbats: Departments of the US Govt are more data-driven than most companies right now. -@dpatil #StrataHadoop"
       ]
      },
      {
       "output_type": "stream",
       "stream": "stdout",
       "text": [
        "\n",
        "RT @furukama: \"Open and machine-readable data is the new default for the government\" &lt;- I wish Germany would copy this approach #StrataHado\u2026"
       ]
      },
      {
       "output_type": "stream",
       "stream": "stdout",
       "text": [
        "\n",
        "RT @jbenno: the data science agenda for the US government. @dpatil #StrataHadoop http://t.co/J1AV4NEJLk"
       ]
      },
      {
       "output_type": "stream",
       "stream": "stdout",
       "text": [
        "\n",
        "We need you! @USDS #StrataHadoop http://t.co/rIFthYJA6S"
       ]
      },
      {
       "output_type": "stream",
       "stream": "stdout",
       "text": [
        "\n",
        "RT @kdnuggets: #StrataHadoop DJ @dpatil: US Data Science Priorities: 1. Precision Medicine"
       ]
      },
      {
       "output_type": "stream",
       "stream": "stdout",
       "text": [
        "\n",
        "RT @peteskomoroch: Watching Obama introduce Chief Data Scientist of the United States @dpatil at #StrataHadoop http://t.co/4YnzZSnznn http:\u2026"
       ]
      },
      {
       "output_type": "stream",
       "stream": "stdout",
       "text": [
        "\n",
        "#StrataHadoop wow its like googles one page legal sign off, the usa government is telling you how they will spy on you in a keynote. Awesome"
       ]
      },
      {
       "output_type": "stream",
       "stream": "stdout",
       "text": [
        "\n",
        "Obama's Agents of Data? #StrataHadoop http://t.co/9eonJdTpOf"
       ]
      },
      {
       "output_type": "stream",
       "stream": "stdout",
       "text": [
        "\n",
        "RT @furukama: \"At some point the data starts whispering to you\" (Alyosha Efros) #computervision #StrataHadoop"
       ]
      },
      {
       "output_type": "stream",
       "stream": "stdout",
       "text": [
        "\n",
        ".@strataconf Call to action... http://t.co/QoiKWjLg21 http://t.co/MJW9tDtSML"
       ]
      },
      {
       "output_type": "stream",
       "stream": "stdout",
       "text": [
        "\n",
        "#DataRPM ready for today's show!!!!! #smartmachineinsights #smi #StrataHadoop @strataconf http://t.co/8T2ZGWKZ6p"
       ]
      },
      {
       "output_type": "stream",
       "stream": "stdout",
       "text": [
        "\n",
        "RT @prabath: Check-out U.S. Digital Service http://t.co/7C1X7Jg8jI #strataconf"
       ]
      },
      {
       "output_type": "stream",
       "stream": "stdout",
       "text": [
        "\n",
        "RT @kdnuggets: #StrataHadoop DJ @dpatil: US Data Science Priorities: 2. Data Products"
       ]
      },
      {
       "output_type": "stream",
       "stream": "stdout",
       "text": [
        "\n",
        "RT @IBMbigdata: Are you watching? @Kocolosk is talking about #IBMandTwitter at #StratConf keynote happening now: http://t.co/nCCPkoC2hA #ha\u2026"
       ]
      },
      {
       "output_type": "stream",
       "stream": "stdout",
       "text": [
        "\n",
        "As I said :-) #strataconf http://t.co/binZOIfkYh"
       ]
      },
      {
       "output_type": "stream",
       "stream": "stdout",
       "text": [
        "\n",
        "Why a data-driven government? Transparency, efficiency, innovation, says @dpatil. http://t.co/jIdY9MM3dG #StrataHadoop"
       ]
      },
      {
       "output_type": "stream",
       "stream": "stdout",
       "text": [
        "\n",
        "RT @kdnuggets: #StrataHadoop DJ @dpatil: US Data Science Priorities: 3. Responsible Data Science"
       ]
      },
      {
       "output_type": "stream",
       "stream": "stdout",
       "text": [
        "\n",
        "RT @furrier: join HP Scality for #bigdata chat on Infra at scale cc #strataconf folks http://t.co/gitKXKythA #RealDataStories"
       ]
      },
      {
       "output_type": "stream",
       "stream": "stdout",
       "text": [
        "\n",
        "RT @sfrechette: Top story: #nosql @edd: 'History of NoSQL according to @markmadsen #strataconf \u2026 http://t.co/Y8RcxpQ055, see more http://t.\u2026"
       ]
      },
      {
       "output_type": "stream",
       "stream": "stdout",
       "text": [
        "\n",
        "RT @carlotorniai: @BarackObama message at #strataconf \"Uncle Tom wants you #DataScientists\" http://t.co/UkErREehKz\n",
        "RT @juguest: Most data driven @whitehouse @BarackObama via @dpatil new @UCDS chief data scientist #StrataHadoop http://t.co/wttW9gfAjt"
       ]
      },
      {
       "output_type": "stream",
       "stream": "stdout",
       "text": [
        "\n",
        "Data science is a team sport. Building out teams in Gov agencies. Need all data scientists help says DJ Patil #strataconf"
       ]
      },
      {
       "output_type": "stream",
       "stream": "stdout",
       "text": [
        "\n",
        "One ask from new US Chief Data Scientist @dpatil: Check out http://t.co/ND8zSi0SSx and find a way to help!  #StrataHadoop"
       ]
      },
      {
       "output_type": "stream",
       "stream": "stdout",
       "text": [
        "\n",
        "RT @Azure: RT @InformaticaCorp: Making Data Work for Everyone with #Cloud http://t.co/yDslzEzFYQ #strataconf http://t.co/W63Syvuonk #Azure"
       ]
      },
      {
       "output_type": "stream",
       "stream": "stdout",
       "text": [
        "\n",
        "RT @peeterskris: These sets all have the same mean, median and variance. Lesson: Always Visualise. #StrataHadoop @statistiekcbs http://t.co\u2026"
       ]
      },
      {
       "output_type": "stream",
       "stream": "stdout",
       "text": [
        "\n",
        "See http://t.co/iQo22bzwT7 for more on @dpatil's new role, and more importantly, yours. #StrataHadoop"
       ]
      },
      {
       "output_type": "stream",
       "stream": "stdout",
       "text": [
        "\n",
        "DJ Patel introduced as White House Chief Data scientist by Obama #StrataHadoop http://t.co/oteuXLzZFu"
       ]
      },
      {
       "output_type": "stream",
       "stream": "stdout",
       "text": [
        "\n",
        "\"I have one ask - data science is a team sport, and we need you\" - @dpatil #StrataHadoop http://t.co/2dOCw4lTFU http://t.co/I0fVKnSj8l"
       ]
      },
      {
       "output_type": "stream",
       "stream": "stdout",
       "text": [
        "\n",
        ".@dpatil: data science is a team sport, and Uncle Sam needs your help. #StrataHadoop http://t.co/SzibMRSrsw"
       ]
      },
      {
       "output_type": "stream",
       "stream": "stdout",
       "text": [
        "\n",
        "@NU_Analytics @opexanalytics #StrataHadoop government's statement: responsible data science"
       ]
      },
      {
       "output_type": "stream",
       "stream": "stdout",
       "text": [
        "\n",
        "We Need You! @whiteHouse @USDS wants #DataScientists http://t.co/aR4bGWqnO1 via @dpatil #StrataHadoop http://t.co/Ino4Py7Hi6"
       ]
      },
      {
       "output_type": "stream",
       "stream": "stdout",
       "text": [
        "\n",
        "RT @furukama: We need you! @USDS #StrataHadoop http://t.co/rIFthYJA6S"
       ]
      },
      {
       "output_type": "stream",
       "stream": "stdout",
       "text": [
        "\n",
        "RT @BilharMann: Just arrived at the @Centrify booth #StrataHadoop http://t.co/ArpmxVs9Em"
       ]
      },
      {
       "output_type": "stream",
       "stream": "stdout",
       "text": [
        "\n",
        "#datascience is a team sport - @dpatil at #StrataHadoop"
       ]
      },
      {
       "output_type": "stream",
       "stream": "stdout",
       "text": [
        "\n",
        "Congrats! The @bluetaloninc Policy Engine wins Audience Favorite @ #StrataHadoop Startup Showcase @strataconf http://t.co/9NVEH5P86t"
       ]
      },
      {
       "output_type": "stream",
       "stream": "stdout",
       "text": [
        "\n",
        "RT @ftgfop1: Forward thinking. #StrataHadoop http://t.co/xmP7e0dwtP"
       ]
      },
      {
       "output_type": "stream",
       "stream": "stdout",
       "text": [
        "\n",
        "POTUS video about #OpenData &amp; #PrecisionMedicine in taped introduction of @dpatil at #strataconf. #hcsm"
       ]
      },
      {
       "output_type": "stream",
       "stream": "stdout",
       "text": [
        "\n",
        "RT @kdnuggets: #StrataHadoop DJ @dpatil: US Data Science Priorities: 1. Precision Medicine"
       ]
      },
      {
       "output_type": "stream",
       "stream": "stdout",
       "text": [
        "\n",
        "RT @JSHorwitz: .@BarackObama thank you for being the first data driven president, ever. @dpatil #HadoopNext #strataconf http://t.co/PLg202x\u2026"
       ]
      },
      {
       "output_type": "stream",
       "stream": "stdout",
       "text": [
        "\n",
        "Wow! @dpatil named Chief Data Scientist for the U.S. Introed at #StrataHadoop by Obama video."
       ]
      },
      {
       "output_type": "stream",
       "stream": "stdout",
       "text": [
        "\n",
        "What will 1st official US data scientist do? #djpatil says precision medicine is a priority. Help out! http://t.co/fniOnqYyIT #StrataHadoop"
       ]
      },
      {
       "output_type": "stream",
       "stream": "stdout",
       "text": [
        "\n",
        "Salesforce Lisa Hammet presenting at #StrataHadoop http://t.co/ZKdyRqUs2r"
       ]
      },
      {
       "output_type": "stream",
       "stream": "stdout",
       "text": [
        "\n",
        "Ask from @dpatil; help make US better through data  #StrataHadoop http://t.co/wqwpfvHLkA"
       ]
      },
      {
       "output_type": "stream",
       "stream": "stdout",
       "text": [
        "\n",
        "RT @keithkohl: Special @BarackObama message here at #StrataHadoop #bigdata. Trust your data #DataQuality @TrilliumSW http://t.co/fEECp7WapL"
       ]
      },
      {
       "output_type": "stream",
       "stream": "stdout",
       "text": [
        "\n",
        "RT @kestelyn: .@dpatil: data science is a team sport, and Uncle Sam needs your help. #StrataHadoop http://t.co/SzibMRSrsw"
       ]
      },
      {
       "output_type": "stream",
       "stream": "stdout",
       "text": [
        "\n",
        "US Govt Hiring Data Scientists. #StrataHadoop http://t.co/1xcomn6Tvh"
       ]
      },
      {
       "output_type": "stream",
       "stream": "stdout",
       "text": [
        "\n",
        "RT @schwartzlaws: According to @mapr, for #Hadoop, ETL will become \"Ingest &amp;Go\" #StrataHadoop #strataconf http://t.co/r9tDWJMuvk"
       ]
      },
      {
       "output_type": "stream",
       "stream": "stdout",
       "text": [
        "\n",
        "RT @sarawinge: Why a data-driven government? Transparency, efficiency, innovation, says @dpatil. http://t.co/jIdY9MM3dG #StrataHadoop"
       ]
      },
      {
       "output_type": "stream",
       "stream": "stdout",
       "text": [
        "\n",
        "#StrataHadoop startup showcase winner announced: congrats @SnowflakeDB! We had a blast last night!"
       ]
      },
      {
       "output_type": "stream",
       "stream": "stdout",
       "text": [
        "\n",
        "Messages from Day 2 #StrataHadoop http://t.co/GATSEMvBzU"
       ]
      },
      {
       "output_type": "stream",
       "stream": "stdout",
       "text": [
        "\n",
        "RT @RobertsPaige: RT @juguest: Most data driven @whitehouse @BarackObama via @dpatil new @UCDS chief data scientist #StrataHadoop http://t.\u2026"
       ]
      },
      {
       "output_type": "stream",
       "stream": "stdout",
       "text": [
        "\n",
        "RT @kathykmy: \"I have one ask - data science is a team sport, and we need you\" - @dpatil #StrataHadoop http://t.co/2dOCw4lTFU http://t.co/I\u2026"
       ]
      },
      {
       "output_type": "stream",
       "stream": "stdout",
       "text": [
        "\n",
        "RT @nmadhu2k3: The most data driven president. Best example of why executive buy in is a must for #BigData success. #StrataHadoop via @dpat\u2026"
       ]
      },
      {
       "output_type": "stream",
       "stream": "stdout",
       "text": [
        "\n",
        "U.S. CDSaDCTODT @dpatil on what \"data-driven government\" means. http://t.co/KaLH3Rk3Ku #strataconf http://t.co/zq43w6yMdy"
       ]
      },
      {
       "output_type": "stream",
       "stream": "stdout",
       "text": [
        "\n",
        "#StrataHadoop DJ @dpatil: Data Science is a team sport - we need your help http://t.co/COfoKq2FyB http://t.co/wKjWGJysSL"
       ]
      },
      {
       "output_type": "stream",
       "stream": "stdout",
       "text": [
        "\n",
        "@dpatil asking #DataScientists to join him to make a difference. Impressed by his efforts. #BigData #StrataHadoop http://t.co/i9nv4cOAB3"
       ]
      },
      {
       "output_type": "stream",
       "stream": "stdout",
       "text": [
        "\n",
        "RT @Cascadia: We Need You! @whiteHouse @USDS wants #DataScientists http://t.co/aR4bGWqnO1 via @dpatil #StrataHadoop http://t.co/Ino4Py7Hi6"
       ]
      },
      {
       "output_type": "stream",
       "stream": "stdout",
       "text": [
        "\n",
        "At #StrataHadoop? Then head over to @cloudera booth #809 \u2013 \u201cEnabling the Analytic Lifecycle with #SAS\u201d 2/19 11:10am this morning!"
       ]
      },
      {
       "output_type": "stream",
       "stream": "stdout",
       "text": [
        "\n",
        "President Obama introducing DJ Patel at #StrataHadoop http://t.co/glshfEQY9I"
       ]
      },
      {
       "output_type": "stream",
       "stream": "stdout",
       "text": [
        "\n",
        "RT @SAsInSumit: Learned a lot about @TrilliumSW data quality for #hadoop #bigdata from folks serious about data @strataconf http://t.co/bjf\u2026"
       ]
      },
      {
       "output_type": "stream",
       "stream": "stdout",
       "text": [
        "\n",
        "If you're here at #StrataHadoop, head over to Booth 1714 to learn more about @Jaspersoft and embedded #BI! @strataconf"
       ]
      },
      {
       "output_type": "stream",
       "stream": "stdout",
       "text": [
        "\n",
        "Precision medicine, data products, responsible data science. @whitehouse's priorities for data. @dpatil #StrataHadoop http://t.co/lcOVtGMsPi"
       ]
      },
      {
       "output_type": "stream",
       "stream": "stdout",
       "text": [
        "\n",
        "RT @RobertsPaige: RT @juguest: Most data driven @whitehouse @BarackObama via @dpatil new @UCDS chief data scientist #StrataHadoop http://t.\u2026"
       ]
      },
      {
       "output_type": "stream",
       "stream": "stdout",
       "text": [
        "\n",
        "RT @carlotorniai: @BarackObama message at #strataconf \"Uncle Tom wants you #DataScientists\" http://t.co/UkErREehKz"
       ]
      },
      {
       "output_type": "stream",
       "stream": "stdout",
       "text": [
        "\n",
        "Great intro by @BarackObama for @dpatil at #strataconf"
       ]
      },
      {
       "output_type": "stream",
       "stream": "stdout",
       "text": [
        "\n",
        "#stratahadoop DJ Patil first US Chief Data Scientist \"data science is a team sport\""
       ]
      },
      {
       "output_type": "stream",
       "stream": "stdout",
       "text": [
        "\n",
        "President Obama video about the promise of #OpenData &amp; #PrecisionMedicine initiative in taped introduction of @dpatil at #strataconf. #hcsm"
       ]
      },
      {
       "output_type": "stream",
       "stream": "stdout",
       "text": [
        "\n",
        "@SnowflakeDB wins startup contest at #StrataHadoop &lt; #DataWarehouse folks should take a look"
       ]
      },
      {
       "output_type": "stream",
       "stream": "stdout",
       "text": [
        "\n",
        "Great write-up from @AllAnalytics - News coming out of #StrataHadoop http://t.co/CrW5kwZ40b"
       ]
      },
      {
       "output_type": "stream",
       "stream": "stdout",
       "text": [
        "\n",
        "RT @atorman: President Obama introducing DJ Patel at #StrataHadoop http://t.co/glshfEQY9I"
       ]
      },
      {
       "output_type": "stream",
       "stream": "stdout",
       "text": [
        "\n",
        "The US government is looking for data scientists and other data professionals. http://t.co/K3wl2aSFsB #stratahadoop"
       ]
      },
      {
       "output_type": "stream",
       "stream": "stdout",
       "text": [
        "\n",
        "RT @Azure: RT @InformaticaCorp: Making Data Work for Everyone with #Cloud http://t.co/yDslzEzFYQ #strataconf http://t.co/W63Syvuonk #Azure"
       ]
      },
      {
       "output_type": "stream",
       "stream": "stdout",
       "text": [
        "\n",
        "RT @cloudant: #StrataHadoop startup showcase winner announced: congrats @SnowflakeDB! We had a blast last night!"
       ]
      },
      {
       "output_type": "stream",
       "stream": "stdout",
       "text": [
        "\n",
        "Calling all data scientists! Check out http://t.co/ace06aQkic @dpatil #WhiteHouse #StrataHadoop http://t.co/PKRZCcye3I"
       ]
      },
      {
       "output_type": "stream",
       "stream": "stdout",
       "text": [
        "\n",
        "@djpatil says: we can't do it alone. Know data? Check out http://t.co/MLkW5awqhB to see how you can help. #StrataHadoop"
       ]
      },
      {
       "output_type": "stream",
       "stream": "stdout",
       "text": [
        "\n",
        "RT @digiphile: U.S. CDSaDCTODT @dpatil on what \"data-driven government\" means. http://t.co/KaLH3Rk3Ku #strataconf http://t.co/zq43w6yMdy"
       ]
      },
      {
       "output_type": "stream",
       "stream": "stdout",
       "text": [
        "\n",
        "#StrataHadoop \u7c73\u9023\u90a6\u653f\u5e9c\u521d\u306e\u30c1\u30fc\u30d5\u30fb\u30c7\u30fc\u30bf\u30b5\u30a4\u30a8\u30f3\u30c6\u30a3\u30b9\u30c8\u306b\u4efb\u547d\u3055\u308c\u305fDJ Patil\u3055\u3093\u300c\u30c7\u30fc\u30bf\u30fb\u30b5\u30a4\u30a8\u30f3\u30b9\u306f\u30c1\u30fc\u30e0\u30b9\u30dd\u30fc\u30c4\u3002\u7686\u3055\u3093\u306e\u529b\u3092\u8cb8\u3057\u3066\u307b\u3057\u3044\u3002\u300d"
       ]
      },
      {
       "output_type": "stream",
       "stream": "stdout",
       "text": [
        "\n",
        "@BarackObama is the most data driven president we have ever had - @dpatil #StrataHadoop http://t.co/aKeWTgCT4A"
       ]
      },
      {
       "output_type": "stream",
       "stream": "stdout",
       "text": [
        "\n",
        "http://t.co/yyUDdwym6Z @dpatil at #strataconf"
       ]
      },
      {
       "output_type": "stream",
       "stream": "stdout",
       "text": [
        "\n",
        "Recruiting data scientists for gov at http://t.co/2ZFQ2PDWEj at #StrataHadoop #strataconf"
       ]
      },
      {
       "output_type": "stream",
       "stream": "stdout",
       "text": [
        "\n",
        "RT @tonyshaw: @SnowflakeDB wins startup contest at #StrataHadoop &lt; #DataWarehouse folks should take a look"
       ]
      },
      {
       "output_type": "stream",
       "stream": "stdout",
       "text": [
        "\n"
       ]
      }
     ],
     "prompt_number": 15
    },
    {
     "cell_type": "code",
     "collapsed": false,
     "input": [],
     "language": "python",
     "metadata": {},
     "outputs": []
    }
   ],
   "metadata": {}
  }
 ]
}